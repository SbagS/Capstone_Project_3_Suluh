{
 "cells": [
  {
   "cell_type": "markdown",
   "id": "577d64d6-4f3a-4bbc-997e-25e24176b676",
   "metadata": {},
   "source": [
    "# Telco Customer Churn Prediction\n",
    "### Oleh: Suluh Bagaspati"
   ]
  },
  {
   "cell_type": "markdown",
   "id": "36d8ab59-544d-4709-acdc-4e4bdff57c63",
   "metadata": {},
   "source": [
    "## Business Problem Understanding"
   ]
  },
  {
   "cell_type": "markdown",
   "id": "bb9f077f-a5d4-4d04-8f69-7cfc70faf711",
   "metadata": {},
   "source": [
    "### Context\n",
    "Perusahaan telekomunikasi memiliki model bisnis berbasis subscription (pelanggan membayar secara berkala untuk menggunakan layanan). Salah satu tantangan utama dalam industri ini adalah churn, yaitu pelanggan memutuskan untuk berhenti berlangganan dan pindah ke kompetitor. Setiap kali churn terjadi:\n",
    "1. Perusahaan kehilangan pendapatan bulanan dari pelanggan tersebut.\n",
    "2. Biaya akuisisi pelanggan baru jauh lebih tinggi dibandingkan mempertahankan pelanggan lama. [Artikel ilmiah](https://pmc.ncbi.nlm.nih.gov/articles/PMC10239051/?utm_source=chatgpt.com) menyebutkan bahwa mendapatkan pelanggan baru bisa 5–25 kali lebih mahal dibanding mempertahankan pelanggan yang sudah ada.\n",
    "3. Loyalitas merek menurun yang berpotensi memicu lebih banyak churn.\n",
    "\n",
    "### Problem Statement\n",
    "Perusahaan belum memiliki sistem prediksi dini untuk mengidentifikasi pelanggan yang berisiko churn sehingga banyak pelanggan hilang tanpa adanya upaya retensi yang tepat waktu. Hal ini mengurangi peluang untuk mempertahankan pelanggan yang sebenarnya dapat diselamatkan dengan intervensi yang tepat.\n",
    "\n",
    "### Goals\n",
    "Membangun model prediksi churn berbasis machine learning sehingga perusahaan dapat mendeteksi pelanggan berisiko tinggi sebelum mereka meninggalkan layanan.\n",
    "\n",
    "### Stakeholder\n",
    "- Divisi Customer Retention/CRM: akan menggunakan hasil model untuk menargetkan pelanggan berisiko tinggi churn dengan promosi atau penawaran khusus.\n",
    "- Tim Marketing: menyusun kampanye berdasarkan segmen pelanggan yang rawan churn.\n",
    "\n",
    "### Analytic Approach\n",
    "Analisis dilakukan untuk mengetahui fitur-fitur yang berpengaruh terhadap keputusan pelanggan untuk berhenti berlangganan. Kemudian, model klasifikasi dengan machine learning dibangun dengan fitur-fitur yang telah dipilih untuk memprediksi kemungkinan pelanggan yang berhenti berlangganan.\n",
    "\n",
    "### Metric Evaluation\n",
    "Fokus utama yaitu pelanggan yang berisiko churn sehingga targetnya:\n",
    "- 0 = Pelanggan yang tidak churn\n",
    "- 1 = Pelanggan yang churn\n",
    "\n",
    "Berdasarkan target didapati dua jenis error:\n",
    "- False Positive (FP)\n",
    "  - Model memprediksi pelanggan akan churn padahal sebenarnya tidak churn.\n",
    "  - Konsekuensi: Kerugian finansial dari over-treatment pelanggan karena penggunaan biaya retensi yang tidak tepat.\n",
    "- False Negative (FN)\n",
    "  - Model memprediksi pelanggan tidak churn padahal sebenarnya churn.\n",
    "  - Konsekuensi: Kerugian pendapatan langsung dari pelanggan yang pergi ditambah biaya penggantian pelanggan yang tinggi.\n",
    "\n",
    "Dari konsekuensi dari kedua error didapati:\n",
    "- FN lebih berbahaya secara finansial dibanding FP karena setiap pelanggan churn yang terlewat berarti kehilangan pendapatan dan membutuhkan biaya besar mencari penggantinya.\n",
    "- Oleh karena itu, fokus terhadap Recall yang mengurangi FN jadi prioritas utama meskipun bisa menaikkan FP.\n",
    "- FP masih bisa diterima sampai batas tertentu terutama jika biaya retensi per pelanggan jauh lebih rendah dibanding kehilangan pelanggan."
   ]
  },
  {
   "cell_type": "markdown",
   "id": "361f59a6-6411-46ec-a1d3-5593ca8a8b3c",
   "metadata": {},
   "source": [
    "## Data Understanding\n",
    "- Dataset source: https://drive.google.com/drive/folders/1_fR7R0srpZgnFnanbrmELgnK-xmzMAHp\n",
    "- Tidak ada informasi mengenai pembuat dan tanggal pembuatan dataset.\n",
    "- Setiap baris merepresentasikan pelanggan perusahaan.\n",
    "\n",
    "### Attribute Information\n",
    "| Feature           | Description                                                   |\n",
    "|-------------------|---------------------------------------------------------------|\n",
    "| Dependents        | Whether the customer has dependents or not.                   |\n",
    "| Tenure            | Number of months the customer has stayed with the company.    |\n",
    "| OnlineSecurity    | Whether the customer has online security or not.              |\n",
    "| OnlineBackup      | Whether the customer has online backup or not.                |\n",
    "| InternetService   | Whether the client is subscribed to Internet service.         |\n",
    "| DeviceProtection  | Whether the client has device protection or not.              |\n",
    "| TechSupport       | Whether the client has tech support or not.                   |\n",
    "| Contract          | Type of contract according to duration.                       |\n",
    "| PaperlessBilling  | Bills issued in paperless form.                               |\n",
    "| MonthlyCharges    | Amount of charge for service on monthly bases.                |\n",
    "| Churn             | Whether the customer churns or not.                           |\n"
   ]
  },
  {
   "cell_type": "markdown",
   "id": "ee26b562-31f1-42d5-8227-78da6bab3668",
   "metadata": {},
   "source": [
    "## Data Cleaning"
   ]
  },
  {
   "cell_type": "markdown",
   "id": "b61d1434-2492-4e02-b285-bc61bf201f3e",
   "metadata": {},
   "source": [
    "### Import Libraries"
   ]
  },
  {
   "cell_type": "code",
   "execution_count": 1,
   "id": "5e4e0256-ba9d-4764-b3fd-0af798a23522",
   "metadata": {},
   "outputs": [],
   "source": [
    "import numpy as np\n",
    "import pandas as pd\n",
    "import seaborn as sns\n",
    "import matplotlib.pyplot as plt\n",
    "from IPython.display import display, Image\n",
    "from scipy.stats import normaltest, chi2_contingency\n",
    "\n",
    "# Feature Engineering\n",
    "from sklearn.preprocessing import OneHotEncoder, OrdinalEncoder, StandardScaler\n",
    "from sklearn.compose import ColumnTransformer\n",
    "\n",
    "# Model Selection\n",
    "from sklearn.model_selection import train_test_split, StratifiedKFold, cross_val_score, GridSearchCV\n",
    "from sklearn.linear_model import LogisticRegression\n",
    "from sklearn.neighbors import KNeighborsClassifier\n",
    "from sklearn.tree import DecisionTreeClassifier\n",
    "from sklearn.ensemble import RandomForestClassifier\n",
    "from xgboost import XGBClassifier\n",
    "import lightgbm as lgb\n",
    "from sklearn.pipeline import Pipeline\n",
    "from sklearn.metrics import roc_auc_score, accuracy_score, recall_score, precision_score, f1_score, confusion_matrix, classification_report\n",
    "\n",
    "# Imbalance Dataset\n",
    "from imblearn.over_sampling import RandomOverSampler, SMOTE\n",
    "from imblearn.pipeline import Pipeline as ImbPipeline\n",
    "\n",
    "# Ignore Warning\n",
    "import warnings\n",
    "warnings.filterwarnings('ignore')\n",
    "    \n",
    "import pickle"
   ]
  },
  {
   "cell_type": "markdown",
   "id": "3d644ca8-deb8-4311-8fcd-45232c2ab7c7",
   "metadata": {},
   "source": [
    "### Load Dataset"
   ]
  },
  {
   "cell_type": "code",
   "execution_count": 2,
   "id": "b442263f-06ca-4958-a506-04b792e4d24e",
   "metadata": {},
   "outputs": [
    {
     "data": {
      "text/html": [
       "<div>\n",
       "<style scoped>\n",
       "    .dataframe tbody tr th:only-of-type {\n",
       "        vertical-align: middle;\n",
       "    }\n",
       "\n",
       "    .dataframe tbody tr th {\n",
       "        vertical-align: top;\n",
       "    }\n",
       "\n",
       "    .dataframe thead th {\n",
       "        text-align: right;\n",
       "    }\n",
       "</style>\n",
       "<table border=\"1\" class=\"dataframe\">\n",
       "  <thead>\n",
       "    <tr style=\"text-align: right;\">\n",
       "      <th></th>\n",
       "      <th>Dependents</th>\n",
       "      <th>tenure</th>\n",
       "      <th>OnlineSecurity</th>\n",
       "      <th>OnlineBackup</th>\n",
       "      <th>InternetService</th>\n",
       "      <th>DeviceProtection</th>\n",
       "      <th>TechSupport</th>\n",
       "      <th>Contract</th>\n",
       "      <th>PaperlessBilling</th>\n",
       "      <th>MonthlyCharges</th>\n",
       "      <th>Churn</th>\n",
       "    </tr>\n",
       "  </thead>\n",
       "  <tbody>\n",
       "    <tr>\n",
       "      <th>0</th>\n",
       "      <td>Yes</td>\n",
       "      <td>9</td>\n",
       "      <td>No</td>\n",
       "      <td>No</td>\n",
       "      <td>DSL</td>\n",
       "      <td>Yes</td>\n",
       "      <td>Yes</td>\n",
       "      <td>Month-to-month</td>\n",
       "      <td>Yes</td>\n",
       "      <td>72.90</td>\n",
       "      <td>Yes</td>\n",
       "    </tr>\n",
       "    <tr>\n",
       "      <th>1</th>\n",
       "      <td>No</td>\n",
       "      <td>14</td>\n",
       "      <td>No</td>\n",
       "      <td>Yes</td>\n",
       "      <td>Fiber optic</td>\n",
       "      <td>Yes</td>\n",
       "      <td>No</td>\n",
       "      <td>Month-to-month</td>\n",
       "      <td>Yes</td>\n",
       "      <td>82.65</td>\n",
       "      <td>No</td>\n",
       "    </tr>\n",
       "    <tr>\n",
       "      <th>2</th>\n",
       "      <td>No</td>\n",
       "      <td>64</td>\n",
       "      <td>Yes</td>\n",
       "      <td>No</td>\n",
       "      <td>DSL</td>\n",
       "      <td>Yes</td>\n",
       "      <td>Yes</td>\n",
       "      <td>Two year</td>\n",
       "      <td>No</td>\n",
       "      <td>47.85</td>\n",
       "      <td>Yes</td>\n",
       "    </tr>\n",
       "    <tr>\n",
       "      <th>3</th>\n",
       "      <td>No</td>\n",
       "      <td>72</td>\n",
       "      <td>Yes</td>\n",
       "      <td>Yes</td>\n",
       "      <td>DSL</td>\n",
       "      <td>Yes</td>\n",
       "      <td>Yes</td>\n",
       "      <td>Two year</td>\n",
       "      <td>No</td>\n",
       "      <td>69.65</td>\n",
       "      <td>No</td>\n",
       "    </tr>\n",
       "    <tr>\n",
       "      <th>4</th>\n",
       "      <td>No</td>\n",
       "      <td>3</td>\n",
       "      <td>No internet service</td>\n",
       "      <td>No internet service</td>\n",
       "      <td>No</td>\n",
       "      <td>No internet service</td>\n",
       "      <td>No internet service</td>\n",
       "      <td>Month-to-month</td>\n",
       "      <td>Yes</td>\n",
       "      <td>23.60</td>\n",
       "      <td>No</td>\n",
       "    </tr>\n",
       "  </tbody>\n",
       "</table>\n",
       "</div>"
      ],
      "text/plain": [
       "  Dependents  tenure       OnlineSecurity         OnlineBackup  \\\n",
       "0        Yes       9                   No                   No   \n",
       "1         No      14                   No                  Yes   \n",
       "2         No      64                  Yes                   No   \n",
       "3         No      72                  Yes                  Yes   \n",
       "4         No       3  No internet service  No internet service   \n",
       "\n",
       "  InternetService     DeviceProtection          TechSupport        Contract  \\\n",
       "0             DSL                  Yes                  Yes  Month-to-month   \n",
       "1     Fiber optic                  Yes                   No  Month-to-month   \n",
       "2             DSL                  Yes                  Yes        Two year   \n",
       "3             DSL                  Yes                  Yes        Two year   \n",
       "4              No  No internet service  No internet service  Month-to-month   \n",
       "\n",
       "  PaperlessBilling  MonthlyCharges Churn  \n",
       "0              Yes           72.90   Yes  \n",
       "1              Yes           82.65    No  \n",
       "2               No           47.85   Yes  \n",
       "3               No           69.65    No  \n",
       "4              Yes           23.60    No  "
      ]
     },
     "execution_count": 2,
     "metadata": {},
     "output_type": "execute_result"
    }
   ],
   "source": [
    "df = pd.read_csv('data_telco_customer_churn.csv')\n",
    "df.head()"
   ]
  },
  {
   "cell_type": "markdown",
   "id": "c36e3fa8-65b0-4f1b-807b-6be1ae3819aa",
   "metadata": {},
   "source": [
    "### Pengecekan Duplikat"
   ]
  },
  {
   "cell_type": "code",
   "execution_count": 3,
   "id": "b72cfe0a-4c09-42b5-9903-e29f9997ce1e",
   "metadata": {},
   "outputs": [
    {
     "name": "stdout",
     "output_type": "stream",
     "text": [
      "Jumlah duplikat baris: 77\n"
     ]
    }
   ],
   "source": [
    "print('Jumlah duplikat baris:', df.duplicated().sum())"
   ]
  },
  {
   "cell_type": "markdown",
   "id": "733dbf7f-ea52-4a0d-9de7-01476f472761",
   "metadata": {},
   "source": [
    "Menghapus duplikat agar model tidak bias ke data yang duplikat."
   ]
  },
  {
   "cell_type": "code",
   "execution_count": 4,
   "id": "babf4a8e-e993-43fd-bb05-01f520951ecc",
   "metadata": {},
   "outputs": [
    {
     "data": {
      "text/html": [
       "<div>\n",
       "<style scoped>\n",
       "    .dataframe tbody tr th:only-of-type {\n",
       "        vertical-align: middle;\n",
       "    }\n",
       "\n",
       "    .dataframe tbody tr th {\n",
       "        vertical-align: top;\n",
       "    }\n",
       "\n",
       "    .dataframe thead th {\n",
       "        text-align: right;\n",
       "    }\n",
       "</style>\n",
       "<table border=\"1\" class=\"dataframe\">\n",
       "  <thead>\n",
       "    <tr style=\"text-align: right;\">\n",
       "      <th></th>\n",
       "      <th>Dependents</th>\n",
       "      <th>tenure</th>\n",
       "      <th>OnlineSecurity</th>\n",
       "      <th>OnlineBackup</th>\n",
       "      <th>InternetService</th>\n",
       "      <th>DeviceProtection</th>\n",
       "      <th>TechSupport</th>\n",
       "      <th>Contract</th>\n",
       "      <th>PaperlessBilling</th>\n",
       "      <th>MonthlyCharges</th>\n",
       "      <th>Churn</th>\n",
       "    </tr>\n",
       "  </thead>\n",
       "  <tbody>\n",
       "    <tr>\n",
       "      <th>0</th>\n",
       "      <td>Yes</td>\n",
       "      <td>9</td>\n",
       "      <td>No</td>\n",
       "      <td>No</td>\n",
       "      <td>DSL</td>\n",
       "      <td>Yes</td>\n",
       "      <td>Yes</td>\n",
       "      <td>Month-to-month</td>\n",
       "      <td>Yes</td>\n",
       "      <td>72.90</td>\n",
       "      <td>Yes</td>\n",
       "    </tr>\n",
       "    <tr>\n",
       "      <th>1</th>\n",
       "      <td>No</td>\n",
       "      <td>14</td>\n",
       "      <td>No</td>\n",
       "      <td>Yes</td>\n",
       "      <td>Fiber optic</td>\n",
       "      <td>Yes</td>\n",
       "      <td>No</td>\n",
       "      <td>Month-to-month</td>\n",
       "      <td>Yes</td>\n",
       "      <td>82.65</td>\n",
       "      <td>No</td>\n",
       "    </tr>\n",
       "    <tr>\n",
       "      <th>2</th>\n",
       "      <td>No</td>\n",
       "      <td>64</td>\n",
       "      <td>Yes</td>\n",
       "      <td>No</td>\n",
       "      <td>DSL</td>\n",
       "      <td>Yes</td>\n",
       "      <td>Yes</td>\n",
       "      <td>Two year</td>\n",
       "      <td>No</td>\n",
       "      <td>47.85</td>\n",
       "      <td>Yes</td>\n",
       "    </tr>\n",
       "    <tr>\n",
       "      <th>3</th>\n",
       "      <td>No</td>\n",
       "      <td>72</td>\n",
       "      <td>Yes</td>\n",
       "      <td>Yes</td>\n",
       "      <td>DSL</td>\n",
       "      <td>Yes</td>\n",
       "      <td>Yes</td>\n",
       "      <td>Two year</td>\n",
       "      <td>No</td>\n",
       "      <td>69.65</td>\n",
       "      <td>No</td>\n",
       "    </tr>\n",
       "    <tr>\n",
       "      <th>4</th>\n",
       "      <td>No</td>\n",
       "      <td>3</td>\n",
       "      <td>No internet service</td>\n",
       "      <td>No internet service</td>\n",
       "      <td>No</td>\n",
       "      <td>No internet service</td>\n",
       "      <td>No internet service</td>\n",
       "      <td>Month-to-month</td>\n",
       "      <td>Yes</td>\n",
       "      <td>23.60</td>\n",
       "      <td>No</td>\n",
       "    </tr>\n",
       "  </tbody>\n",
       "</table>\n",
       "</div>"
      ],
      "text/plain": [
       "  Dependents  tenure       OnlineSecurity         OnlineBackup  \\\n",
       "0        Yes       9                   No                   No   \n",
       "1         No      14                   No                  Yes   \n",
       "2         No      64                  Yes                   No   \n",
       "3         No      72                  Yes                  Yes   \n",
       "4         No       3  No internet service  No internet service   \n",
       "\n",
       "  InternetService     DeviceProtection          TechSupport        Contract  \\\n",
       "0             DSL                  Yes                  Yes  Month-to-month   \n",
       "1     Fiber optic                  Yes                   No  Month-to-month   \n",
       "2             DSL                  Yes                  Yes        Two year   \n",
       "3             DSL                  Yes                  Yes        Two year   \n",
       "4              No  No internet service  No internet service  Month-to-month   \n",
       "\n",
       "  PaperlessBilling  MonthlyCharges Churn  \n",
       "0              Yes           72.90   Yes  \n",
       "1              Yes           82.65    No  \n",
       "2               No           47.85   Yes  \n",
       "3               No           69.65    No  \n",
       "4              Yes           23.60    No  "
      ]
     },
     "execution_count": 4,
     "metadata": {},
     "output_type": "execute_result"
    }
   ],
   "source": [
    "df = df.drop_duplicates().reset_index(drop=True)\n",
    "df.head()"
   ]
  },
  {
   "cell_type": "code",
   "execution_count": 5,
   "id": "ab900714-be1d-490f-abaa-c7b67e3dc471",
   "metadata": {},
   "outputs": [
    {
     "name": "stdout",
     "output_type": "stream",
     "text": [
      "Jumlah duplikat baris: 0\n"
     ]
    }
   ],
   "source": [
    "print('Jumlah duplikat baris:', df.duplicated().sum())"
   ]
  },
  {
   "cell_type": "markdown",
   "id": "0734c30c-7ac4-4858-b8b0-b4b0df1fd12e",
   "metadata": {},
   "source": [
    "### Pengecekan Missing Value dan Nilai Unik"
   ]
  },
  {
   "cell_type": "code",
   "execution_count": 6,
   "id": "41ca5a89-cde7-4262-be14-a0da7ad2c74e",
   "metadata": {},
   "outputs": [
    {
     "name": "stdout",
     "output_type": "stream",
     "text": [
      "<class 'pandas.core.frame.DataFrame'>\n",
      "RangeIndex: 4853 entries, 0 to 4852\n",
      "Data columns (total 11 columns):\n",
      " #   Column            Non-Null Count  Dtype  \n",
      "---  ------            --------------  -----  \n",
      " 0   Dependents        4853 non-null   object \n",
      " 1   tenure            4853 non-null   int64  \n",
      " 2   OnlineSecurity    4853 non-null   object \n",
      " 3   OnlineBackup      4853 non-null   object \n",
      " 4   InternetService   4853 non-null   object \n",
      " 5   DeviceProtection  4853 non-null   object \n",
      " 6   TechSupport       4853 non-null   object \n",
      " 7   Contract          4853 non-null   object \n",
      " 8   PaperlessBilling  4853 non-null   object \n",
      " 9   MonthlyCharges    4853 non-null   float64\n",
      " 10  Churn             4853 non-null   object \n",
      "dtypes: float64(1), int64(1), object(9)\n",
      "memory usage: 417.2+ KB\n"
     ]
    }
   ],
   "source": [
    "df.info()"
   ]
  },
  {
   "cell_type": "code",
   "execution_count": 7,
   "id": "e4b4775a-9d10-4e8c-9b59-601548278ee4",
   "metadata": {},
   "outputs": [
    {
     "data": {
      "text/html": [
       "<div>\n",
       "<style scoped>\n",
       "    .dataframe tbody tr th:only-of-type {\n",
       "        vertical-align: middle;\n",
       "    }\n",
       "\n",
       "    .dataframe tbody tr th {\n",
       "        vertical-align: top;\n",
       "    }\n",
       "\n",
       "    .dataframe thead th {\n",
       "        text-align: right;\n",
       "    }\n",
       "</style>\n",
       "<table border=\"1\" class=\"dataframe\">\n",
       "  <thead>\n",
       "    <tr style=\"text-align: right;\">\n",
       "      <th></th>\n",
       "      <th>tenure</th>\n",
       "      <th>MonthlyCharges</th>\n",
       "    </tr>\n",
       "  </thead>\n",
       "  <tbody>\n",
       "    <tr>\n",
       "      <th>count</th>\n",
       "      <td>4853.000000</td>\n",
       "      <td>4853.000000</td>\n",
       "    </tr>\n",
       "    <tr>\n",
       "      <th>mean</th>\n",
       "      <td>32.679992</td>\n",
       "      <td>65.321543</td>\n",
       "    </tr>\n",
       "    <tr>\n",
       "      <th>std</th>\n",
       "      <td>24.395554</td>\n",
       "      <td>29.783655</td>\n",
       "    </tr>\n",
       "    <tr>\n",
       "      <th>min</th>\n",
       "      <td>0.000000</td>\n",
       "      <td>18.800000</td>\n",
       "    </tr>\n",
       "    <tr>\n",
       "      <th>25%</th>\n",
       "      <td>9.000000</td>\n",
       "      <td>40.050000</td>\n",
       "    </tr>\n",
       "    <tr>\n",
       "      <th>50%</th>\n",
       "      <td>29.000000</td>\n",
       "      <td>70.600000</td>\n",
       "    </tr>\n",
       "    <tr>\n",
       "      <th>75%</th>\n",
       "      <td>56.000000</td>\n",
       "      <td>90.050000</td>\n",
       "    </tr>\n",
       "    <tr>\n",
       "      <th>max</th>\n",
       "      <td>72.000000</td>\n",
       "      <td>118.650000</td>\n",
       "    </tr>\n",
       "  </tbody>\n",
       "</table>\n",
       "</div>"
      ],
      "text/plain": [
       "            tenure  MonthlyCharges\n",
       "count  4853.000000     4853.000000\n",
       "mean     32.679992       65.321543\n",
       "std      24.395554       29.783655\n",
       "min       0.000000       18.800000\n",
       "25%       9.000000       40.050000\n",
       "50%      29.000000       70.600000\n",
       "75%      56.000000       90.050000\n",
       "max      72.000000      118.650000"
      ]
     },
     "metadata": {},
     "output_type": "display_data"
    },
    {
     "data": {
      "text/html": [
       "<div>\n",
       "<style scoped>\n",
       "    .dataframe tbody tr th:only-of-type {\n",
       "        vertical-align: middle;\n",
       "    }\n",
       "\n",
       "    .dataframe tbody tr th {\n",
       "        vertical-align: top;\n",
       "    }\n",
       "\n",
       "    .dataframe thead th {\n",
       "        text-align: right;\n",
       "    }\n",
       "</style>\n",
       "<table border=\"1\" class=\"dataframe\">\n",
       "  <thead>\n",
       "    <tr style=\"text-align: right;\">\n",
       "      <th></th>\n",
       "      <th>Dependents</th>\n",
       "      <th>OnlineSecurity</th>\n",
       "      <th>OnlineBackup</th>\n",
       "      <th>InternetService</th>\n",
       "      <th>DeviceProtection</th>\n",
       "      <th>TechSupport</th>\n",
       "      <th>Contract</th>\n",
       "      <th>PaperlessBilling</th>\n",
       "      <th>Churn</th>\n",
       "    </tr>\n",
       "  </thead>\n",
       "  <tbody>\n",
       "    <tr>\n",
       "      <th>count</th>\n",
       "      <td>4853</td>\n",
       "      <td>4853</td>\n",
       "      <td>4853</td>\n",
       "      <td>4853</td>\n",
       "      <td>4853</td>\n",
       "      <td>4853</td>\n",
       "      <td>4853</td>\n",
       "      <td>4853</td>\n",
       "      <td>4853</td>\n",
       "    </tr>\n",
       "    <tr>\n",
       "      <th>unique</th>\n",
       "      <td>2</td>\n",
       "      <td>3</td>\n",
       "      <td>3</td>\n",
       "      <td>3</td>\n",
       "      <td>3</td>\n",
       "      <td>3</td>\n",
       "      <td>3</td>\n",
       "      <td>2</td>\n",
       "      <td>2</td>\n",
       "    </tr>\n",
       "    <tr>\n",
       "      <th>top</th>\n",
       "      <td>No</td>\n",
       "      <td>No</td>\n",
       "      <td>No</td>\n",
       "      <td>Fiber optic</td>\n",
       "      <td>No</td>\n",
       "      <td>No</td>\n",
       "      <td>Month-to-month</td>\n",
       "      <td>Yes</td>\n",
       "      <td>No</td>\n",
       "    </tr>\n",
       "    <tr>\n",
       "      <th>freq</th>\n",
       "      <td>3380</td>\n",
       "      <td>2420</td>\n",
       "      <td>2148</td>\n",
       "      <td>2154</td>\n",
       "      <td>2162</td>\n",
       "      <td>2442</td>\n",
       "      <td>2665</td>\n",
       "      <td>2925</td>\n",
       "      <td>3565</td>\n",
       "    </tr>\n",
       "  </tbody>\n",
       "</table>\n",
       "</div>"
      ],
      "text/plain": [
       "       Dependents OnlineSecurity OnlineBackup InternetService  \\\n",
       "count        4853           4853         4853            4853   \n",
       "unique          2              3            3               3   \n",
       "top            No             No           No     Fiber optic   \n",
       "freq         3380           2420         2148            2154   \n",
       "\n",
       "       DeviceProtection TechSupport        Contract PaperlessBilling Churn  \n",
       "count              4853        4853            4853             4853  4853  \n",
       "unique                3           3               3                2     2  \n",
       "top                  No          No  Month-to-month              Yes    No  \n",
       "freq               2162        2442            2665             2925  3565  "
      ]
     },
     "metadata": {},
     "output_type": "display_data"
    }
   ],
   "source": [
    "display(df.describe(),df.describe(include=['object']))"
   ]
  },
  {
   "cell_type": "code",
   "execution_count": 8,
   "id": "9eb162b9-f035-493c-8c2b-f4773dd8571b",
   "metadata": {},
   "outputs": [
    {
     "data": {
      "text/html": [
       "<div>\n",
       "<style scoped>\n",
       "    .dataframe tbody tr th:only-of-type {\n",
       "        vertical-align: middle;\n",
       "    }\n",
       "\n",
       "    .dataframe tbody tr th {\n",
       "        vertical-align: top;\n",
       "    }\n",
       "\n",
       "    .dataframe thead th {\n",
       "        text-align: right;\n",
       "    }\n",
       "</style>\n",
       "<table border=\"1\" class=\"dataframe\">\n",
       "  <thead>\n",
       "    <tr style=\"text-align: right;\">\n",
       "      <th></th>\n",
       "      <th>Data Features</th>\n",
       "      <th>Data Types</th>\n",
       "      <th>Null Val</th>\n",
       "      <th>Null Percentage</th>\n",
       "      <th>Unique</th>\n",
       "      <th>Unique Sample</th>\n",
       "    </tr>\n",
       "  </thead>\n",
       "  <tbody>\n",
       "    <tr>\n",
       "      <th>0</th>\n",
       "      <td>Dependents</td>\n",
       "      <td>object</td>\n",
       "      <td>0</td>\n",
       "      <td>0.0</td>\n",
       "      <td>2</td>\n",
       "      <td>[Yes, No]</td>\n",
       "    </tr>\n",
       "    <tr>\n",
       "      <th>1</th>\n",
       "      <td>tenure</td>\n",
       "      <td>int64</td>\n",
       "      <td>0</td>\n",
       "      <td>0.0</td>\n",
       "      <td>73</td>\n",
       "      <td>[9, 14, 64, 72, 3, 40, 17, 11, 8, 47, 18, 5, 1, 48, 13, 58, 7, 4, 70, 34, 31, 37, 15, 71, 10, 43, 22, 33, 69, 54, 63, 55, 66, 56, 32, 26, 24, 2, 51, 23, 49, 28, 36, 45, 42, 6, 61, 59, 67, 65, 0, 16, 52, 41, 25, 62, 20, 50, 30, 60, 19, 35, 57, 27, 44, 53, 12, 46, 39, 29, 38, 68, 21]</td>\n",
       "    </tr>\n",
       "    <tr>\n",
       "      <th>2</th>\n",
       "      <td>OnlineSecurity</td>\n",
       "      <td>object</td>\n",
       "      <td>0</td>\n",
       "      <td>0.0</td>\n",
       "      <td>3</td>\n",
       "      <td>[No, Yes, No internet service]</td>\n",
       "    </tr>\n",
       "    <tr>\n",
       "      <th>3</th>\n",
       "      <td>OnlineBackup</td>\n",
       "      <td>object</td>\n",
       "      <td>0</td>\n",
       "      <td>0.0</td>\n",
       "      <td>3</td>\n",
       "      <td>[No, Yes, No internet service]</td>\n",
       "    </tr>\n",
       "    <tr>\n",
       "      <th>4</th>\n",
       "      <td>InternetService</td>\n",
       "      <td>object</td>\n",
       "      <td>0</td>\n",
       "      <td>0.0</td>\n",
       "      <td>3</td>\n",
       "      <td>[DSL, Fiber optic, No]</td>\n",
       "    </tr>\n",
       "    <tr>\n",
       "      <th>5</th>\n",
       "      <td>DeviceProtection</td>\n",
       "      <td>object</td>\n",
       "      <td>0</td>\n",
       "      <td>0.0</td>\n",
       "      <td>3</td>\n",
       "      <td>[Yes, No internet service, No]</td>\n",
       "    </tr>\n",
       "    <tr>\n",
       "      <th>6</th>\n",
       "      <td>TechSupport</td>\n",
       "      <td>object</td>\n",
       "      <td>0</td>\n",
       "      <td>0.0</td>\n",
       "      <td>3</td>\n",
       "      <td>[Yes, No, No internet service]</td>\n",
       "    </tr>\n",
       "    <tr>\n",
       "      <th>7</th>\n",
       "      <td>Contract</td>\n",
       "      <td>object</td>\n",
       "      <td>0</td>\n",
       "      <td>0.0</td>\n",
       "      <td>3</td>\n",
       "      <td>[Month-to-month, Two year, One year]</td>\n",
       "    </tr>\n",
       "    <tr>\n",
       "      <th>8</th>\n",
       "      <td>PaperlessBilling</td>\n",
       "      <td>object</td>\n",
       "      <td>0</td>\n",
       "      <td>0.0</td>\n",
       "      <td>2</td>\n",
       "      <td>[Yes, No]</td>\n",
       "    </tr>\n",
       "    <tr>\n",
       "      <th>9</th>\n",
       "      <td>MonthlyCharges</td>\n",
       "      <td>float64</td>\n",
       "      <td>0</td>\n",
       "      <td>0.0</td>\n",
       "      <td>1422</td>\n",
       "      <td>[72.9, 82.65, 47.85, 69.65, 23.6, 74.55, 19.7, 44.05, 73.5, 40.3, 33.6, 96.25, 70.45, 30.55, 44.8, 20.0, 81.5, 94.35, 35.3, 50.7, 106.05, 56.3, 20.65, 98.9, 40.2, 81.2, 19.45, 116.1, 55.2, 94.45, 84.85, 19.6, 79.0, 74.7, 30.4, 55.8, 104.5, 70.55, 55.25, 96.65, 88.85, 109.25, 104.75, 74.4, 79.4, 74.1, 73.05, 94.6, 70.35, 79.6, 79.5, 90.7, 81.0, 87.75, 118.65, 24.8, 105.25, 57.8, 19.0, 25.7, 54.2, 44.85, 19.95, 81.05, 20.35, 85.25, 67.45, 100.3, 20.95, 105.2, 26.35, 82.15, 102.6, 106.15, 23.95, 115.8, 66.85, 90.35, 89.85, 73.35, 104.45, 35.45, 88.4, 70.5, 25.1, 39.0, 83.25, 74.3, 54.3, 50.45, 86.0, 19.55, 103.5, 91.7, 64.85, 99.65, 68.75, 106.25, 75.9, 94.4, ...]</td>\n",
       "    </tr>\n",
       "    <tr>\n",
       "      <th>10</th>\n",
       "      <td>Churn</td>\n",
       "      <td>object</td>\n",
       "      <td>0</td>\n",
       "      <td>0.0</td>\n",
       "      <td>2</td>\n",
       "      <td>[Yes, No]</td>\n",
       "    </tr>\n",
       "  </tbody>\n",
       "</table>\n",
       "</div>"
      ],
      "text/plain": [
       "       Data Features Data Types  Null Val  Null Percentage  Unique  \\\n",
       "0         Dependents     object         0              0.0       2   \n",
       "1             tenure      int64         0              0.0      73   \n",
       "2     OnlineSecurity     object         0              0.0       3   \n",
       "3       OnlineBackup     object         0              0.0       3   \n",
       "4    InternetService     object         0              0.0       3   \n",
       "5   DeviceProtection     object         0              0.0       3   \n",
       "6        TechSupport     object         0              0.0       3   \n",
       "7           Contract     object         0              0.0       3   \n",
       "8   PaperlessBilling     object         0              0.0       2   \n",
       "9     MonthlyCharges    float64         0              0.0    1422   \n",
       "10             Churn     object         0              0.0       2   \n",
       "\n",
       "                                                                                                                                                                                                                                                                                                                                                                                                                                                                                                                                                                                                                                                                                    Unique Sample  \n",
       "0                                                                                                                                                                                                                                                                                                                                                                                                                                                                                                                                                                                                                                                                                       [Yes, No]  \n",
       "1                                                                                                                                                                                                                                                                                                                                                                                                      [9, 14, 64, 72, 3, 40, 17, 11, 8, 47, 18, 5, 1, 48, 13, 58, 7, 4, 70, 34, 31, 37, 15, 71, 10, 43, 22, 33, 69, 54, 63, 55, 66, 56, 32, 26, 24, 2, 51, 23, 49, 28, 36, 45, 42, 6, 61, 59, 67, 65, 0, 16, 52, 41, 25, 62, 20, 50, 30, 60, 19, 35, 57, 27, 44, 53, 12, 46, 39, 29, 38, 68, 21]  \n",
       "2                                                                                                                                                                                                                                                                                                                                                                                                                                                                                                                                                                                                                                                                  [No, Yes, No internet service]  \n",
       "3                                                                                                                                                                                                                                                                                                                                                                                                                                                                                                                                                                                                                                                                  [No, Yes, No internet service]  \n",
       "4                                                                                                                                                                                                                                                                                                                                                                                                                                                                                                                                                                                                                                                                          [DSL, Fiber optic, No]  \n",
       "5                                                                                                                                                                                                                                                                                                                                                                                                                                                                                                                                                                                                                                                                  [Yes, No internet service, No]  \n",
       "6                                                                                                                                                                                                                                                                                                                                                                                                                                                                                                                                                                                                                                                                  [Yes, No, No internet service]  \n",
       "7                                                                                                                                                                                                                                                                                                                                                                                                                                                                                                                                                                                                                                                            [Month-to-month, Two year, One year]  \n",
       "8                                                                                                                                                                                                                                                                                                                                                                                                                                                                                                                                                                                                                                                                                       [Yes, No]  \n",
       "9   [72.9, 82.65, 47.85, 69.65, 23.6, 74.55, 19.7, 44.05, 73.5, 40.3, 33.6, 96.25, 70.45, 30.55, 44.8, 20.0, 81.5, 94.35, 35.3, 50.7, 106.05, 56.3, 20.65, 98.9, 40.2, 81.2, 19.45, 116.1, 55.2, 94.45, 84.85, 19.6, 79.0, 74.7, 30.4, 55.8, 104.5, 70.55, 55.25, 96.65, 88.85, 109.25, 104.75, 74.4, 79.4, 74.1, 73.05, 94.6, 70.35, 79.6, 79.5, 90.7, 81.0, 87.75, 118.65, 24.8, 105.25, 57.8, 19.0, 25.7, 54.2, 44.85, 19.95, 81.05, 20.35, 85.25, 67.45, 100.3, 20.95, 105.2, 26.35, 82.15, 102.6, 106.15, 23.95, 115.8, 66.85, 90.35, 89.85, 73.35, 104.45, 35.45, 88.4, 70.5, 25.1, 39.0, 83.25, 74.3, 54.3, 50.45, 86.0, 19.55, 103.5, 91.7, 64.85, 99.65, 68.75, 106.25, 75.9, 94.4, ...]  \n",
       "10                                                                                                                                                                                                                                                                                                                                                                                                                                                                                                                                                                                                                                                                                      [Yes, No]  "
      ]
     },
     "execution_count": 8,
     "metadata": {},
     "output_type": "execute_result"
    }
   ],
   "source": [
    "dataDesc = []\n",
    "for i in df.columns:\n",
    "    dataDesc.append([\n",
    "        i,\n",
    "        df[i].dtypes,\n",
    "        df[i].isna().sum(),\n",
    "        round((df[i].isna().sum() /len(df)) *100,2),\n",
    "        df[i].nunique(),\n",
    "        df[i].unique()\n",
    "    ])\n",
    "\n",
    "pd.set_option('max_colwidth', None)\n",
    "\n",
    "pd.DataFrame(dataDesc, columns=[\n",
    "    'Data Features',\n",
    "    'Data Types',\n",
    "    'Null Val',\n",
    "    'Null Percentage',\n",
    "    'Unique',\n",
    "    'Unique Sample'\n",
    "])"
   ]
  },
  {
   "cell_type": "markdown",
   "id": "485eb013-e719-4abc-be96-6f07aee9730f",
   "metadata": {},
   "source": [
    "Tidak ditemui kolom yang memiliki nilai kosong."
   ]
  },
  {
   "cell_type": "markdown",
   "id": "6c5eca46-7362-4176-bcd3-1797f67f57a7",
   "metadata": {},
   "source": [
    "### Pengecekan Outlier"
   ]
  },
  {
   "cell_type": "code",
   "execution_count": 9,
   "id": "ca827e1a-1794-48fc-a537-b3f20c96105b",
   "metadata": {},
   "outputs": [
    {
     "name": "stdout",
     "output_type": "stream",
     "text": [
      "Persentase jumlah outlier kolom tenure: 0.0%\n",
      "Persentase jumlah outlier kolom MonthlyCharges: 0.0%\n"
     ]
    }
   ],
   "source": [
    "numeric_cols_var = ['tenure', 'MonthlyCharges']\n",
    "\n",
    "for col in numeric_cols_var:\n",
    "    Q1 = df[col].quantile(0.25)\n",
    "    Q3 = df[col].quantile(0.75)\n",
    "    IQR = Q3 - Q1\n",
    "    \n",
    "    batas_bawah = Q1 - 1.5 * IQR\n",
    "    batas_atas  = Q3 + 1.5 * IQR\n",
    "    \n",
    "    outliers = df[(df[col] < batas_bawah) | (df[col] > batas_atas)]\n",
    "\n",
    "    persentase =  round((len(outliers)/len(df)) *100,4)\n",
    "    \n",
    "    print(f'Persentase jumlah outlier kolom {col}: {persentase}%')"
   ]
  },
  {
   "cell_type": "markdown",
   "id": "b2623078-49f1-46bd-b376-56b99106408a",
   "metadata": {},
   "source": [
    "Tidak ada outlier pada fitur numerik."
   ]
  },
  {
   "cell_type": "markdown",
   "id": "dac9597a-710b-42e4-83dc-680e93c1bf7c",
   "metadata": {},
   "source": [
    "### Data Transformation"
   ]
  },
  {
   "cell_type": "code",
   "execution_count": 10,
   "id": "b3cd5c0e-5d67-49e0-aabd-21e474fdc262",
   "metadata": {},
   "outputs": [
    {
     "data": {
      "text/html": [
       "<div>\n",
       "<style scoped>\n",
       "    .dataframe tbody tr th:only-of-type {\n",
       "        vertical-align: middle;\n",
       "    }\n",
       "\n",
       "    .dataframe tbody tr th {\n",
       "        vertical-align: top;\n",
       "    }\n",
       "\n",
       "    .dataframe thead th {\n",
       "        text-align: right;\n",
       "    }\n",
       "</style>\n",
       "<table border=\"1\" class=\"dataframe\">\n",
       "  <thead>\n",
       "    <tr style=\"text-align: right;\">\n",
       "      <th></th>\n",
       "      <th>Data Features</th>\n",
       "      <th>Using Internet Service</th>\n",
       "      <th>No Internet Service</th>\n",
       "    </tr>\n",
       "  </thead>\n",
       "  <tbody>\n",
       "    <tr>\n",
       "      <th>0</th>\n",
       "      <td>OnlineSecurity</td>\n",
       "      <td>[No, Yes]</td>\n",
       "      <td>[No internet service]</td>\n",
       "    </tr>\n",
       "    <tr>\n",
       "      <th>1</th>\n",
       "      <td>OnlineBackup</td>\n",
       "      <td>[No, Yes]</td>\n",
       "      <td>[No internet service]</td>\n",
       "    </tr>\n",
       "    <tr>\n",
       "      <th>2</th>\n",
       "      <td>DeviceProtection</td>\n",
       "      <td>[Yes, No]</td>\n",
       "      <td>[No internet service]</td>\n",
       "    </tr>\n",
       "    <tr>\n",
       "      <th>3</th>\n",
       "      <td>TechSupport</td>\n",
       "      <td>[Yes, No]</td>\n",
       "      <td>[No internet service]</td>\n",
       "    </tr>\n",
       "  </tbody>\n",
       "</table>\n",
       "</div>"
      ],
      "text/plain": [
       "      Data Features Using Internet Service    No Internet Service\n",
       "0    OnlineSecurity              [No, Yes]  [No internet service]\n",
       "1      OnlineBackup              [No, Yes]  [No internet service]\n",
       "2  DeviceProtection              [Yes, No]  [No internet service]\n",
       "3       TechSupport              [Yes, No]  [No internet service]"
      ]
     },
     "execution_count": 10,
     "metadata": {},
     "output_type": "execute_result"
    }
   ],
   "source": [
    "InternetService_Yes = df[df['InternetService']!='No']\n",
    "InternetService_No = df[df['InternetService']=='No']\n",
    "\n",
    "dataDesc = []\n",
    "for i in ['OnlineSecurity', 'OnlineBackup', 'DeviceProtection', 'TechSupport']:\n",
    "    dataDesc.append([\n",
    "        i,\n",
    "        InternetService_Yes[i].unique(),\n",
    "        InternetService_No[i].unique()\n",
    "    ])\n",
    "\n",
    "pd.set_option('max_colwidth', None)\n",
    "\n",
    "pd.DataFrame(dataDesc, columns=[\n",
    "    'Data Features',\n",
    "    'Using Internet Service',\n",
    "    'No Internet Service'\n",
    "])"
   ]
  },
  {
   "cell_type": "markdown",
   "id": "7f97ab09-40c3-42b8-8baa-df99a08e8846",
   "metadata": {},
   "source": [
    "- Jika InternetService nilainya \"No\" maka kolom OnlineSecurity, OnlineBackup, DeviceProtection, dan TechSupport nilainya \"No internet service\".\n",
    "- Jadi nilai \"No internet service\" bukan informasi baru melainkan hanya pengulangan dari fakta bahwa pelanggan tidak berlangganan Internet."
   ]
  },
  {
   "cell_type": "code",
   "execution_count": 11,
   "id": "36ad8f7d-1583-4852-bc87-b010b401a3b5",
   "metadata": {},
   "outputs": [],
   "source": [
    "cols_to_replace = ['OnlineSecurity', 'OnlineBackup', 'DeviceProtection', 'TechSupport']\n",
    "\n",
    "df[cols_to_replace] = df[cols_to_replace].replace('No internet service', 'No')"
   ]
  },
  {
   "cell_type": "markdown",
   "id": "c0d11e07-5131-4fca-9417-b7e87c0c87cb",
   "metadata": {},
   "source": [
    "- Dilakukan penggabungan nilai \"No internet service\" dan \"No\" pada empat kolom tersebut sehingga nilainya menjadi \"No\" saja.\n",
    "- Alasan penggabungan:\n",
    "  1. Mengurangi kategori dari 3 nilai (Yes / No / No internet service) jadi 2 nilai (Yes / No) sehingga model lebih sederhana.\n",
    "  2. Menghindari redundancy.\n",
    "  3. Memperkuat interpretasi artinya model hanya melihat apakah pelanggan punya fitur itu atau tidak tanpa mempedulikan alasan teknisnya.\n",
    "  4. Mengurangi risiko multicollinearity sehingga hubungan antar variabel jadi lebih bersih."
   ]
  },
  {
   "cell_type": "markdown",
   "id": "e92a97eb-0832-4282-bdae-7bacb6c74ead",
   "metadata": {},
   "source": [
    "## Feature Selection"
   ]
  },
  {
   "cell_type": "markdown",
   "id": "66d096e4-d966-4535-94cc-99a596af9ccd",
   "metadata": {},
   "source": [
    "### Pengecekan Imbalance Target"
   ]
  },
  {
   "cell_type": "code",
   "execution_count": 12,
   "id": "2484d8e6-79ff-448f-9c38-892d3c3a1dd3",
   "metadata": {},
   "outputs": [
    {
     "data": {
      "image/png": "[encoded data removed]",
      "text/plain": [
       "<Figure size 640x480 with 1 Axes>"
      ]
     },
     "metadata": {},
     "output_type": "display_data"
    }
   ],
   "source": [
    "ax = sns.countplot(x=df['Churn'])\n",
    "for container in ax.containers:\n",
    "    ax.bar_label(container, padding=1)\n",
    "plt.title('Distribusi Churn')\n",
    "plt.show()"
   ]
  },
  {
   "cell_type": "code",
   "execution_count": 13,
   "id": "895bd5e4-0716-4edc-8206-c22c91d06485",
   "metadata": {},
   "outputs": [
    {
     "data": {
      "image/png": "[encoded data removed]",
      "text/plain": [
       "<Figure size 640x480 with 1 Axes>"
      ]
     },
     "metadata": {},
     "output_type": "display_data"
    }
   ],
   "source": [
    "churn_counts = df['Churn'].value_counts()\n",
    "\n",
    "plt.pie(churn_counts,\n",
    "        labels=churn_counts.index,\n",
    "        autopct='%1.1f%%',\n",
    "        startangle=90,\n",
    "        wedgeprops={'edgecolor': 'black'})\n",
    "plt.title('Distribusi Churn')\n",
    "plt.show()"
   ]
  },
  {
   "cell_type": "markdown",
   "id": "ec14a7bd-c61a-46dc-86f0-5870492840e3",
   "metadata": {},
   "source": [
    "Dari bar chart dan pie chart diatas didapati distribusi churn Yes = 26.5% dan No = 73.5% artinya datanya tidak seimbang (imbalanced class)."
   ]
  },
  {
   "cell_type": "markdown",
   "id": "b3fa29b6-562b-44b3-84f7-602dd9cddd9b",
   "metadata": {},
   "source": [
    "### Pengecekan Features"
   ]
  },
  {
   "cell_type": "code",
   "execution_count": 14,
   "id": "2f589fe8-4d92-459a-99ae-d736c30a8066",
   "metadata": {},
   "outputs": [],
   "source": [
    "df['Churn'] = df['Churn'].map({'Yes': 1, 'No': 0})"
   ]
  },
  {
   "cell_type": "markdown",
   "id": "8739e651-0b61-4294-80dc-10823a480934",
   "metadata": {},
   "source": [
    "Pengubahan Yes menjadi 1 dan No menjadi 0 untuk pengecekan persentase churn pada fitur lainnya."
   ]
  },
  {
   "cell_type": "code",
   "execution_count": 15,
   "id": "1ac6ff18-f858-4d21-b2c3-1eb4b74e540d",
   "metadata": {},
   "outputs": [],
   "source": [
    "def ChurnPercent(feature):\n",
    "    stats = (\n",
    "        df.groupby(feature)['Churn']\n",
    "        .agg(['mean', 'count'])\n",
    "        .rename(columns={'mean': 'Churn %', 'count': 'Count'})\n",
    "    )\n",
    "    stats['Churn %'] = (stats['Churn %'] * 100).round(2)\n",
    "    return stats"
   ]
  },
  {
   "cell_type": "code",
   "execution_count": 16,
   "id": "673c5868-b8c5-4828-970a-ba2b652fb190",
   "metadata": {},
   "outputs": [
    {
     "data": {
      "text/html": [
       "<div>\n",
       "<style scoped>\n",
       "    .dataframe tbody tr th:only-of-type {\n",
       "        vertical-align: middle;\n",
       "    }\n",
       "\n",
       "    .dataframe tbody tr th {\n",
       "        vertical-align: top;\n",
       "    }\n",
       "\n",
       "    .dataframe thead th {\n",
       "        text-align: right;\n",
       "    }\n",
       "</style>\n",
       "<table border=\"1\" class=\"dataframe\">\n",
       "  <thead>\n",
       "    <tr style=\"text-align: right;\">\n",
       "      <th></th>\n",
       "      <th>Churn %</th>\n",
       "      <th>Count</th>\n",
       "    </tr>\n",
       "    <tr>\n",
       "      <th>Dependents</th>\n",
       "      <th></th>\n",
       "      <th></th>\n",
       "    </tr>\n",
       "  </thead>\n",
       "  <tbody>\n",
       "    <tr>\n",
       "      <th>No</th>\n",
       "      <td>31.48</td>\n",
       "      <td>3380</td>\n",
       "    </tr>\n",
       "    <tr>\n",
       "      <th>Yes</th>\n",
       "      <td>15.21</td>\n",
       "      <td>1473</td>\n",
       "    </tr>\n",
       "  </tbody>\n",
       "</table>\n",
       "</div>"
      ],
      "text/plain": [
       "            Churn %  Count\n",
       "Dependents                \n",
       "No            31.48   3380\n",
       "Yes           15.21   1473"
      ]
     },
     "execution_count": 16,
     "metadata": {},
     "output_type": "execute_result"
    }
   ],
   "source": [
    "ChurnPercent('Dependents')"
   ]
  },
  {
   "cell_type": "markdown",
   "id": "cfe249ce-4bf1-43fa-a478-3006e6797abb",
   "metadata": {},
   "source": [
    "- Feature Dependents dapat digunakan karena memiliki pola perbedaan persentase Churn yang jelas antar kategorinya.\n",
    "- Pelanggan yang tidak memiliki tanggungan cenderung untuk berhenti berlangganan dibandingkan yang memiliki tanggungan."
   ]
  },
  {
   "cell_type": "code",
   "execution_count": 17,
   "id": "eb278cd1-9099-41bb-95c0-1818d987b460",
   "metadata": {},
   "outputs": [
    {
     "data": {
      "text/html": [
       "<div>\n",
       "<style scoped>\n",
       "    .dataframe tbody tr th:only-of-type {\n",
       "        vertical-align: middle;\n",
       "    }\n",
       "\n",
       "    .dataframe tbody tr th {\n",
       "        vertical-align: top;\n",
       "    }\n",
       "\n",
       "    .dataframe thead th {\n",
       "        text-align: right;\n",
       "    }\n",
       "</style>\n",
       "<table border=\"1\" class=\"dataframe\">\n",
       "  <thead>\n",
       "    <tr style=\"text-align: right;\">\n",
       "      <th></th>\n",
       "      <th>Churn %</th>\n",
       "      <th>Count</th>\n",
       "    </tr>\n",
       "    <tr>\n",
       "      <th>OnlineSecurity</th>\n",
       "      <th></th>\n",
       "      <th></th>\n",
       "    </tr>\n",
       "  </thead>\n",
       "  <tbody>\n",
       "    <tr>\n",
       "      <th>No</th>\n",
       "      <td>31.43</td>\n",
       "      <td>3423</td>\n",
       "    </tr>\n",
       "    <tr>\n",
       "      <th>Yes</th>\n",
       "      <td>14.83</td>\n",
       "      <td>1430</td>\n",
       "    </tr>\n",
       "  </tbody>\n",
       "</table>\n",
       "</div>"
      ],
      "text/plain": [
       "                Churn %  Count\n",
       "OnlineSecurity                \n",
       "No                31.43   3423\n",
       "Yes               14.83   1430"
      ]
     },
     "execution_count": 17,
     "metadata": {},
     "output_type": "execute_result"
    }
   ],
   "source": [
    "ChurnPercent('OnlineSecurity')"
   ]
  },
  {
   "cell_type": "markdown",
   "id": "b8042584-2f43-4c45-aa79-8856577bcb19",
   "metadata": {},
   "source": [
    "- Feature OnlineSecurity dapat digunakan karena memiliki pola perbedaan persentase Churn yang jelas antar kategorinya.\n",
    "- Pelanggan yang tidak menggunakan layanan keamanan online cenderung untuk berhenti berlangganan dibandingkan dengan yang menggunakan."
   ]
  },
  {
   "cell_type": "code",
   "execution_count": 18,
   "id": "55e851b1-602d-43f5-bac0-85b4d224c1b4",
   "metadata": {},
   "outputs": [
    {
     "data": {
      "text/html": [
       "<div>\n",
       "<style scoped>\n",
       "    .dataframe tbody tr th:only-of-type {\n",
       "        vertical-align: middle;\n",
       "    }\n",
       "\n",
       "    .dataframe tbody tr th {\n",
       "        vertical-align: top;\n",
       "    }\n",
       "\n",
       "    .dataframe thead th {\n",
       "        text-align: right;\n",
       "    }\n",
       "</style>\n",
       "<table border=\"1\" class=\"dataframe\">\n",
       "  <thead>\n",
       "    <tr style=\"text-align: right;\">\n",
       "      <th></th>\n",
       "      <th>Churn %</th>\n",
       "      <th>Count</th>\n",
       "    </tr>\n",
       "    <tr>\n",
       "      <th>OnlineBackup</th>\n",
       "      <th></th>\n",
       "      <th></th>\n",
       "    </tr>\n",
       "  </thead>\n",
       "  <tbody>\n",
       "    <tr>\n",
       "      <th>No</th>\n",
       "      <td>29.80</td>\n",
       "      <td>3151</td>\n",
       "    </tr>\n",
       "    <tr>\n",
       "      <th>Yes</th>\n",
       "      <td>20.51</td>\n",
       "      <td>1702</td>\n",
       "    </tr>\n",
       "  </tbody>\n",
       "</table>\n",
       "</div>"
      ],
      "text/plain": [
       "              Churn %  Count\n",
       "OnlineBackup                \n",
       "No              29.80   3151\n",
       "Yes             20.51   1702"
      ]
     },
     "execution_count": 18,
     "metadata": {},
     "output_type": "execute_result"
    }
   ],
   "source": [
    "ChurnPercent('OnlineBackup')"
   ]
  },
  {
   "cell_type": "markdown",
   "id": "550c593c-e5fb-4602-9f85-f38ff3c16c74",
   "metadata": {},
   "source": [
    "- Feature OnlineBackup dapat digunakan karena memiliki pola perbedaan persentase Churn yang jelas antar kategorinya.\n",
    "- Pelanggan yang tidak memiliki online backup cenderung untuk berhenti berlangganan dibandingkan dengan yang punya."
   ]
  },
  {
   "cell_type": "code",
   "execution_count": 19,
   "id": "8d737cb2-ac33-47f6-9af5-5a25c8fe54a7",
   "metadata": {},
   "outputs": [
    {
     "data": {
      "text/html": [
       "<div>\n",
       "<style scoped>\n",
       "    .dataframe tbody tr th:only-of-type {\n",
       "        vertical-align: middle;\n",
       "    }\n",
       "\n",
       "    .dataframe tbody tr th {\n",
       "        vertical-align: top;\n",
       "    }\n",
       "\n",
       "    .dataframe thead th {\n",
       "        text-align: right;\n",
       "    }\n",
       "</style>\n",
       "<table border=\"1\" class=\"dataframe\">\n",
       "  <thead>\n",
       "    <tr style=\"text-align: right;\">\n",
       "      <th></th>\n",
       "      <th>Churn %</th>\n",
       "      <th>Count</th>\n",
       "    </tr>\n",
       "    <tr>\n",
       "      <th>InternetService</th>\n",
       "      <th></th>\n",
       "      <th></th>\n",
       "    </tr>\n",
       "  </thead>\n",
       "  <tbody>\n",
       "    <tr>\n",
       "      <th>DSL</th>\n",
       "      <td>18.34</td>\n",
       "      <td>1696</td>\n",
       "    </tr>\n",
       "    <tr>\n",
       "      <th>Fiber optic</th>\n",
       "      <td>41.88</td>\n",
       "      <td>2154</td>\n",
       "    </tr>\n",
       "    <tr>\n",
       "      <th>No</th>\n",
       "      <td>7.48</td>\n",
       "      <td>1003</td>\n",
       "    </tr>\n",
       "  </tbody>\n",
       "</table>\n",
       "</div>"
      ],
      "text/plain": [
       "                 Churn %  Count\n",
       "InternetService                \n",
       "DSL                18.34   1696\n",
       "Fiber optic        41.88   2154\n",
       "No                  7.48   1003"
      ]
     },
     "execution_count": 19,
     "metadata": {},
     "output_type": "execute_result"
    }
   ],
   "source": [
    "ChurnPercent('InternetService')"
   ]
  },
  {
   "cell_type": "markdown",
   "id": "4d825d13-17f0-4d67-badf-7b1def63a898",
   "metadata": {},
   "source": [
    "- Feature InternetService dapat digunakan karena memiliki pola perbedaan persentase Churn yang jelas antar kategorinya.\n",
    "- Pelanggan yang menggunakan layanan internet Fiber Optic cenderung untuk berhenti berlangganan dibandingkan dengan kategori lainnya."
   ]
  },
  {
   "cell_type": "code",
   "execution_count": 20,
   "id": "0d464c4a-5499-4906-a4a8-a3212fc8d234",
   "metadata": {},
   "outputs": [
    {
     "data": {
      "text/html": [
       "<div>\n",
       "<style scoped>\n",
       "    .dataframe tbody tr th:only-of-type {\n",
       "        vertical-align: middle;\n",
       "    }\n",
       "\n",
       "    .dataframe tbody tr th {\n",
       "        vertical-align: top;\n",
       "    }\n",
       "\n",
       "    .dataframe thead th {\n",
       "        text-align: right;\n",
       "    }\n",
       "</style>\n",
       "<table border=\"1\" class=\"dataframe\">\n",
       "  <thead>\n",
       "    <tr style=\"text-align: right;\">\n",
       "      <th></th>\n",
       "      <th>Churn %</th>\n",
       "      <th>Count</th>\n",
       "    </tr>\n",
       "    <tr>\n",
       "      <th>DeviceProtection</th>\n",
       "      <th></th>\n",
       "      <th></th>\n",
       "    </tr>\n",
       "  </thead>\n",
       "  <tbody>\n",
       "    <tr>\n",
       "      <th>No</th>\n",
       "      <td>28.59</td>\n",
       "      <td>3165</td>\n",
       "    </tr>\n",
       "    <tr>\n",
       "      <th>Yes</th>\n",
       "      <td>22.69</td>\n",
       "      <td>1688</td>\n",
       "    </tr>\n",
       "  </tbody>\n",
       "</table>\n",
       "</div>"
      ],
      "text/plain": [
       "                  Churn %  Count\n",
       "DeviceProtection                \n",
       "No                  28.59   3165\n",
       "Yes                 22.69   1688"
      ]
     },
     "execution_count": 20,
     "metadata": {},
     "output_type": "execute_result"
    }
   ],
   "source": [
    "ChurnPercent('DeviceProtection')"
   ]
  },
  {
   "cell_type": "markdown",
   "id": "e07df112-dad6-485f-bb3a-29dab90e2ea6",
   "metadata": {},
   "source": [
    "- Feature DeviceProtection dapat digunakan karena memiliki pola perbedaan persentase Churn yang jelas antar kategorinya.\n",
    "- Pelanggan yang tidak memiliki perlindungan device cenderung untuk berhenti berlangganan dibandingkan dengan yang punya."
   ]
  },
  {
   "cell_type": "code",
   "execution_count": 21,
   "id": "0a53985c-1b8e-4623-9cde-a2203d0002e8",
   "metadata": {},
   "outputs": [
    {
     "data": {
      "text/html": [
       "<div>\n",
       "<style scoped>\n",
       "    .dataframe tbody tr th:only-of-type {\n",
       "        vertical-align: middle;\n",
       "    }\n",
       "\n",
       "    .dataframe tbody tr th {\n",
       "        vertical-align: top;\n",
       "    }\n",
       "\n",
       "    .dataframe thead th {\n",
       "        text-align: right;\n",
       "    }\n",
       "</style>\n",
       "<table border=\"1\" class=\"dataframe\">\n",
       "  <thead>\n",
       "    <tr style=\"text-align: right;\">\n",
       "      <th></th>\n",
       "      <th>Churn %</th>\n",
       "      <th>Count</th>\n",
       "    </tr>\n",
       "    <tr>\n",
       "      <th>TechSupport</th>\n",
       "      <th></th>\n",
       "      <th></th>\n",
       "    </tr>\n",
       "  </thead>\n",
       "  <tbody>\n",
       "    <tr>\n",
       "      <th>No</th>\n",
       "      <td>31.18</td>\n",
       "      <td>3445</td>\n",
       "    </tr>\n",
       "    <tr>\n",
       "      <th>Yes</th>\n",
       "      <td>15.20</td>\n",
       "      <td>1408</td>\n",
       "    </tr>\n",
       "  </tbody>\n",
       "</table>\n",
       "</div>"
      ],
      "text/plain": [
       "             Churn %  Count\n",
       "TechSupport                \n",
       "No             31.18   3445\n",
       "Yes            15.20   1408"
      ]
     },
     "execution_count": 21,
     "metadata": {},
     "output_type": "execute_result"
    }
   ],
   "source": [
    "ChurnPercent('TechSupport')"
   ]
  },
  {
   "cell_type": "markdown",
   "id": "309d9ae5-359f-416b-857c-33e9fba72e74",
   "metadata": {},
   "source": [
    "- Feature TechSupport dapat digunakan karena memiliki pola perbedaan persentase Churn yang jelas antar kategorinya.\n",
    "- Pelanggan yang tidak memiliki tech support cenderung untuk berhenti berlangganan dibandingkan dengan yang punya."
   ]
  },
  {
   "cell_type": "code",
   "execution_count": 22,
   "id": "265ee329-48e6-479b-b58b-d18662054469",
   "metadata": {},
   "outputs": [
    {
     "data": {
      "text/html": [
       "<div>\n",
       "<style scoped>\n",
       "    .dataframe tbody tr th:only-of-type {\n",
       "        vertical-align: middle;\n",
       "    }\n",
       "\n",
       "    .dataframe tbody tr th {\n",
       "        vertical-align: top;\n",
       "    }\n",
       "\n",
       "    .dataframe thead th {\n",
       "        text-align: right;\n",
       "    }\n",
       "</style>\n",
       "<table border=\"1\" class=\"dataframe\">\n",
       "  <thead>\n",
       "    <tr style=\"text-align: right;\">\n",
       "      <th></th>\n",
       "      <th>Churn %</th>\n",
       "      <th>Count</th>\n",
       "    </tr>\n",
       "    <tr>\n",
       "      <th>Contract</th>\n",
       "      <th></th>\n",
       "      <th></th>\n",
       "    </tr>\n",
       "  </thead>\n",
       "  <tbody>\n",
       "    <tr>\n",
       "      <th>Month-to-month</th>\n",
       "      <td>43.15</td>\n",
       "      <td>2665</td>\n",
       "    </tr>\n",
       "    <tr>\n",
       "      <th>One year</th>\n",
       "      <td>10.14</td>\n",
       "      <td>1045</td>\n",
       "    </tr>\n",
       "    <tr>\n",
       "      <th>Two year</th>\n",
       "      <td>2.80</td>\n",
       "      <td>1143</td>\n",
       "    </tr>\n",
       "  </tbody>\n",
       "</table>\n",
       "</div>"
      ],
      "text/plain": [
       "                Churn %  Count\n",
       "Contract                      \n",
       "Month-to-month    43.15   2665\n",
       "One year          10.14   1045\n",
       "Two year           2.80   1143"
      ]
     },
     "execution_count": 22,
     "metadata": {},
     "output_type": "execute_result"
    }
   ],
   "source": [
    "ChurnPercent('Contract')"
   ]
  },
  {
   "cell_type": "markdown",
   "id": "0162d9b5-4da5-4a78-a4df-b2c62eee50f6",
   "metadata": {},
   "source": [
    "- Feature Contract dapat digunakan karena memiliki pola perbedaan persentase Churn yang jelas antar kategorinya.\n",
    "- Pelanggan dengan kontrak bulanan cenderung untuk berhenti berlangganan dibandingkan dengan kategori lainnya."
   ]
  },
  {
   "cell_type": "code",
   "execution_count": 23,
   "id": "9e70a679-0a76-42e3-a0db-f9332888fded",
   "metadata": {},
   "outputs": [
    {
     "data": {
      "text/html": [
       "<div>\n",
       "<style scoped>\n",
       "    .dataframe tbody tr th:only-of-type {\n",
       "        vertical-align: middle;\n",
       "    }\n",
       "\n",
       "    .dataframe tbody tr th {\n",
       "        vertical-align: top;\n",
       "    }\n",
       "\n",
       "    .dataframe thead th {\n",
       "        text-align: right;\n",
       "    }\n",
       "</style>\n",
       "<table border=\"1\" class=\"dataframe\">\n",
       "  <thead>\n",
       "    <tr style=\"text-align: right;\">\n",
       "      <th></th>\n",
       "      <th>Churn %</th>\n",
       "      <th>Count</th>\n",
       "    </tr>\n",
       "    <tr>\n",
       "      <th>PaperlessBilling</th>\n",
       "      <th></th>\n",
       "      <th></th>\n",
       "    </tr>\n",
       "  </thead>\n",
       "  <tbody>\n",
       "    <tr>\n",
       "      <th>No</th>\n",
       "      <td>16.44</td>\n",
       "      <td>1928</td>\n",
       "    </tr>\n",
       "    <tr>\n",
       "      <th>Yes</th>\n",
       "      <td>33.20</td>\n",
       "      <td>2925</td>\n",
       "    </tr>\n",
       "  </tbody>\n",
       "</table>\n",
       "</div>"
      ],
      "text/plain": [
       "                  Churn %  Count\n",
       "PaperlessBilling                \n",
       "No                  16.44   1928\n",
       "Yes                 33.20   2925"
      ]
     },
     "execution_count": 23,
     "metadata": {},
     "output_type": "execute_result"
    }
   ],
   "source": [
    "ChurnPercent('PaperlessBilling')"
   ]
  },
  {
   "cell_type": "markdown",
   "id": "6af15d21-78d1-46e5-81c8-81df5b01269a",
   "metadata": {},
   "source": [
    "- Feature PaperlessBilling dapat digunakan karena memiliki pola perbedaan persentase Churn yang jelas antar kategorinya.\n",
    "- Pelanggan yang tagihannya tanpa kertas cenderung untuk berhenti berlangganan dibandingkan yang tagihannya dengan kertas."
   ]
  },
  {
   "cell_type": "code",
   "execution_count": 24,
   "id": "0128094e-051b-4a29-a885-ce212a19c998",
   "metadata": {},
   "outputs": [
    {
     "name": "stdout",
     "output_type": "stream",
     "text": [
      "Fitur: Dependents\n",
      "P-value: 0.0000\n",
      "Hasil: Ada hubungan signifikan antara Dependents dan Churn\n",
      "\n",
      "Fitur: OnlineSecurity\n",
      "P-value: 0.0000\n",
      "Hasil: Ada hubungan signifikan antara OnlineSecurity dan Churn\n",
      "\n",
      "Fitur: OnlineBackup\n",
      "P-value: 0.0000\n",
      "Hasil: Ada hubungan signifikan antara OnlineBackup dan Churn\n",
      "\n",
      "Fitur: InternetService\n",
      "P-value: 0.0000\n",
      "Hasil: Ada hubungan signifikan antara InternetService dan Churn\n",
      "\n",
      "Fitur: DeviceProtection\n",
      "P-value: 0.0000\n",
      "Hasil: Ada hubungan signifikan antara DeviceProtection dan Churn\n",
      "\n",
      "Fitur: TechSupport\n",
      "P-value: 0.0000\n",
      "Hasil: Ada hubungan signifikan antara TechSupport dan Churn\n",
      "\n",
      "Fitur: Contract\n",
      "P-value: 0.0000\n",
      "Hasil: Ada hubungan signifikan antara Contract dan Churn\n",
      "\n",
      "Fitur: PaperlessBilling\n",
      "P-value: 0.0000\n",
      "Hasil: Ada hubungan signifikan antara PaperlessBilling dan Churn\n",
      "\n"
     ]
    }
   ],
   "source": [
    "categorical_columns = df.select_dtypes(include=['O']).columns.tolist()\n",
    "\n",
    "for col in categorical_columns:\n",
    "    contingency_table = pd.crosstab(df[col], df['Churn'])\n",
    "    \n",
    "    chi2, p, dof, expected = chi2_contingency(contingency_table)\n",
    "    \n",
    "    print(f'Fitur: {col}')\n",
    "    print(f'P-value: {p:.4f}')\n",
    "    \n",
    "    if p < 0.05:\n",
    "        print(f'Hasil: Ada hubungan signifikan antara {col} dan Churn\\n')\n",
    "    else:\n",
    "        print(f'Hasil: Tidak ada hubungan signifikan antara {col} dan Churn\\n')"
   ]
  },
  {
   "cell_type": "markdown",
   "id": "89bc0878-1450-45e1-adf8-bd26cb6d3905",
   "metadata": {},
   "source": [
    "- Adanya hubungan categorical features dan Churn didukung dengan chi square test.\n",
    "- Seluruh feature memiliki p-value kurang dari 0.05 artinya ada hubungan signifikan antara setiap feature dan Churn."
   ]
  },
  {
   "cell_type": "code",
   "execution_count": 25,
   "id": "840c1499-12a8-4d7c-82b4-e019c836fb2d",
   "metadata": {},
   "outputs": [
    {
     "data": {
      "image/png": "[encoded data removed]",
      "text/plain": [
       "<Figure size 750x500 with 2 Axes>"
      ]
     },
     "metadata": {},
     "output_type": "display_data"
    },
    {
     "data": {
      "image/png": "[encoded data removed]",
      "text/plain": [
       "<Figure size 750x500 with 2 Axes>"
      ]
     },
     "metadata": {},
     "output_type": "display_data"
    }
   ],
   "source": [
    "for col in numeric_cols_var:\n",
    "    data = df[col]\n",
    "\n",
    "    stat, p = normaltest(data)\n",
    "    if p > 0.05:\n",
    "        distribusi = f'p = {p:.5f}, Distribusi Normal'\n",
    "    else:\n",
    "        distribusi = f'p = {p:.5f}, Tidak terdistribusi normal'\n",
    "    \n",
    "    fig, (ax1, ax2) = plt.subplots(2, sharex = True, figsize = (7.5,5), gridspec_kw={'height_ratios': (.15, .85), 'hspace': 0.05})\n",
    "    ax1.set_title(f'Distribusi {col}\\n{distribusi}')\n",
    "    sns.boxplot(x = df[col], ax = ax1)\n",
    "    ax1.set(xlabel = '')\n",
    "    sns.histplot(data = df[col], ax = ax2, stat = 'count', kde=True, bins=50)\n",
    "    plt.show()"
   ]
  },
  {
   "cell_type": "markdown",
   "id": "45a9efd1-7c78-43db-b52a-b9c9b54cc95f",
   "metadata": {},
   "source": [
    "- Kedua fitur numerik tidak terdistribusi normal.\n",
    "- Dapat dilihat dari boxplot tidak terdapat outlier sehingga sesuai dengan pengecekan outlier sebelumnya."
   ]
  },
  {
   "cell_type": "code",
   "execution_count": 26,
   "id": "91c9fd98-879a-48b2-9160-b3330189b6fe",
   "metadata": {},
   "outputs": [
    {
     "data": {
      "image/png": "[encoded data removed]",
      "text/plain": [
       "<Figure size 640x480 with 2 Axes>"
      ]
     },
     "metadata": {},
     "output_type": "display_data"
    }
   ],
   "source": [
    "numerical_columns = df.select_dtypes(include=['number']).columns.tolist()\n",
    "\n",
    "corr_spearman = df[numerical_columns].corr(method='spearman')\n",
    "\n",
    "sns.heatmap(corr_spearman, annot=True, cmap='coolwarm', fmt='.2f')\n",
    "plt.title('Spearman Correlation (Non-Normal Data)')\n",
    "plt.show()"
   ]
  },
  {
   "cell_type": "markdown",
   "id": "14bd8f5d-fa7f-4542-9897-cbca4e0080d6",
   "metadata": {},
   "source": [
    "- Tidak terdapat korelasi tinggi antar features numerik artinya multikolinearitas dan redundansi antar features numerik juga tidak ditemui.\n",
    "- Korelasi features numerik dengan target rendah artinya tidak ada fitur yang terlalu jelas hubungannya dengan target.\n",
    "- Oleh karena itu, seluruh features numerik tetap digunakan."
   ]
  },
  {
   "cell_type": "markdown",
   "id": "4c60b33c-4a50-4707-9cc8-60f4755d7107",
   "metadata": {},
   "source": [
    "## Features Engineering"
   ]
  },
  {
   "cell_type": "code",
   "execution_count": 27,
   "id": "1f868919-1e27-4ae5-a1ef-2a87f0db287e",
   "metadata": {},
   "outputs": [
    {
     "data": {
      "text/html": [
       "<div>\n",
       "<style scoped>\n",
       "    .dataframe tbody tr th:only-of-type {\n",
       "        vertical-align: middle;\n",
       "    }\n",
       "\n",
       "    .dataframe tbody tr th {\n",
       "        vertical-align: top;\n",
       "    }\n",
       "\n",
       "    .dataframe thead th {\n",
       "        text-align: right;\n",
       "    }\n",
       "</style>\n",
       "<table border=\"1\" class=\"dataframe\">\n",
       "  <thead>\n",
       "    <tr style=\"text-align: right;\">\n",
       "      <th></th>\n",
       "      <th>Data Features</th>\n",
       "      <th>Unique</th>\n",
       "      <th>Unique Sample</th>\n",
       "    </tr>\n",
       "  </thead>\n",
       "  <tbody>\n",
       "    <tr>\n",
       "      <th>0</th>\n",
       "      <td>Dependents</td>\n",
       "      <td>2</td>\n",
       "      <td>[Yes, No]</td>\n",
       "    </tr>\n",
       "    <tr>\n",
       "      <th>1</th>\n",
       "      <td>tenure</td>\n",
       "      <td>73</td>\n",
       "      <td>[9, 14, 64, 72, 3, 40, 17, 11, 8, 47, 18, 5, 1, 48, 13, 58, 7, 4, 70, 34, 31, 37, 15, 71, 10, 43, 22, 33, 69, 54, 63, 55, 66, 56, 32, 26, 24, 2, 51, 23, 49, 28, 36, 45, 42, 6, 61, 59, 67, 65, 0, 16, 52, 41, 25, 62, 20, 50, 30, 60, 19, 35, 57, 27, 44, 53, 12, 46, 39, 29, 38, 68, 21]</td>\n",
       "    </tr>\n",
       "    <tr>\n",
       "      <th>2</th>\n",
       "      <td>OnlineSecurity</td>\n",
       "      <td>2</td>\n",
       "      <td>[No, Yes]</td>\n",
       "    </tr>\n",
       "    <tr>\n",
       "      <th>3</th>\n",
       "      <td>OnlineBackup</td>\n",
       "      <td>2</td>\n",
       "      <td>[No, Yes]</td>\n",
       "    </tr>\n",
       "    <tr>\n",
       "      <th>4</th>\n",
       "      <td>InternetService</td>\n",
       "      <td>3</td>\n",
       "      <td>[DSL, Fiber optic, No]</td>\n",
       "    </tr>\n",
       "    <tr>\n",
       "      <th>5</th>\n",
       "      <td>DeviceProtection</td>\n",
       "      <td>2</td>\n",
       "      <td>[Yes, No]</td>\n",
       "    </tr>\n",
       "    <tr>\n",
       "      <th>6</th>\n",
       "      <td>TechSupport</td>\n",
       "      <td>2</td>\n",
       "      <td>[Yes, No]</td>\n",
       "    </tr>\n",
       "    <tr>\n",
       "      <th>7</th>\n",
       "      <td>Contract</td>\n",
       "      <td>3</td>\n",
       "      <td>[Month-to-month, Two year, One year]</td>\n",
       "    </tr>\n",
       "    <tr>\n",
       "      <th>8</th>\n",
       "      <td>PaperlessBilling</td>\n",
       "      <td>2</td>\n",
       "      <td>[Yes, No]</td>\n",
       "    </tr>\n",
       "    <tr>\n",
       "      <th>9</th>\n",
       "      <td>MonthlyCharges</td>\n",
       "      <td>1422</td>\n",
       "      <td>[72.9, 82.65, 47.85, 69.65, 23.6, 74.55, 19.7, 44.05, 73.5, 40.3, 33.6, 96.25, 70.45, 30.55, 44.8, 20.0, 81.5, 94.35, 35.3, 50.7, 106.05, 56.3, 20.65, 98.9, 40.2, 81.2, 19.45, 116.1, 55.2, 94.45, 84.85, 19.6, 79.0, 74.7, 30.4, 55.8, 104.5, 70.55, 55.25, 96.65, 88.85, 109.25, 104.75, 74.4, 79.4, 74.1, 73.05, 94.6, 70.35, 79.6, 79.5, 90.7, 81.0, 87.75, 118.65, 24.8, 105.25, 57.8, 19.0, 25.7, 54.2, 44.85, 19.95, 81.05, 20.35, 85.25, 67.45, 100.3, 20.95, 105.2, 26.35, 82.15, 102.6, 106.15, 23.95, 115.8, 66.85, 90.35, 89.85, 73.35, 104.45, 35.45, 88.4, 70.5, 25.1, 39.0, 83.25, 74.3, 54.3, 50.45, 86.0, 19.55, 103.5, 91.7, 64.85, 99.65, 68.75, 106.25, 75.9, 94.4, ...]</td>\n",
       "    </tr>\n",
       "    <tr>\n",
       "      <th>10</th>\n",
       "      <td>Churn</td>\n",
       "      <td>2</td>\n",
       "      <td>[1, 0]</td>\n",
       "    </tr>\n",
       "  </tbody>\n",
       "</table>\n",
       "</div>"
      ],
      "text/plain": [
       "       Data Features  Unique  \\\n",
       "0         Dependents       2   \n",
       "1             tenure      73   \n",
       "2     OnlineSecurity       2   \n",
       "3       OnlineBackup       2   \n",
       "4    InternetService       3   \n",
       "5   DeviceProtection       2   \n",
       "6        TechSupport       2   \n",
       "7           Contract       3   \n",
       "8   PaperlessBilling       2   \n",
       "9     MonthlyCharges    1422   \n",
       "10             Churn       2   \n",
       "\n",
       "                                                                                                                                                                                                                                                                                                                                                                                                                                                                                                                                                                                                                                                                                    Unique Sample  \n",
       "0                                                                                                                                                                                                                                                                                                                                                                                                                                                                                                                                                                                                                                                                                       [Yes, No]  \n",
       "1                                                                                                                                                                                                                                                                                                                                                                                                      [9, 14, 64, 72, 3, 40, 17, 11, 8, 47, 18, 5, 1, 48, 13, 58, 7, 4, 70, 34, 31, 37, 15, 71, 10, 43, 22, 33, 69, 54, 63, 55, 66, 56, 32, 26, 24, 2, 51, 23, 49, 28, 36, 45, 42, 6, 61, 59, 67, 65, 0, 16, 52, 41, 25, 62, 20, 50, 30, 60, 19, 35, 57, 27, 44, 53, 12, 46, 39, 29, 38, 68, 21]  \n",
       "2                                                                                                                                                                                                                                                                                                                                                                                                                                                                                                                                                                                                                                                                                       [No, Yes]  \n",
       "3                                                                                                                                                                                                                                                                                                                                                                                                                                                                                                                                                                                                                                                                                       [No, Yes]  \n",
       "4                                                                                                                                                                                                                                                                                                                                                                                                                                                                                                                                                                                                                                                                          [DSL, Fiber optic, No]  \n",
       "5                                                                                                                                                                                                                                                                                                                                                                                                                                                                                                                                                                                                                                                                                       [Yes, No]  \n",
       "6                                                                                                                                                                                                                                                                                                                                                                                                                                                                                                                                                                                                                                                                                       [Yes, No]  \n",
       "7                                                                                                                                                                                                                                                                                                                                                                                                                                                                                                                                                                                                                                                            [Month-to-month, Two year, One year]  \n",
       "8                                                                                                                                                                                                                                                                                                                                                                                                                                                                                                                                                                                                                                                                                       [Yes, No]  \n",
       "9   [72.9, 82.65, 47.85, 69.65, 23.6, 74.55, 19.7, 44.05, 73.5, 40.3, 33.6, 96.25, 70.45, 30.55, 44.8, 20.0, 81.5, 94.35, 35.3, 50.7, 106.05, 56.3, 20.65, 98.9, 40.2, 81.2, 19.45, 116.1, 55.2, 94.45, 84.85, 19.6, 79.0, 74.7, 30.4, 55.8, 104.5, 70.55, 55.25, 96.65, 88.85, 109.25, 104.75, 74.4, 79.4, 74.1, 73.05, 94.6, 70.35, 79.6, 79.5, 90.7, 81.0, 87.75, 118.65, 24.8, 105.25, 57.8, 19.0, 25.7, 54.2, 44.85, 19.95, 81.05, 20.35, 85.25, 67.45, 100.3, 20.95, 105.2, 26.35, 82.15, 102.6, 106.15, 23.95, 115.8, 66.85, 90.35, 89.85, 73.35, 104.45, 35.45, 88.4, 70.5, 25.1, 39.0, 83.25, 74.3, 54.3, 50.45, 86.0, 19.55, 103.5, 91.7, 64.85, 99.65, 68.75, 106.25, 75.9, 94.4, ...]  \n",
       "10                                                                                                                                                                                                                                                                                                                                                                                                                                                                                                                                                                                                                                                                                         [1, 0]  "
      ]
     },
     "execution_count": 27,
     "metadata": {},
     "output_type": "execute_result"
    }
   ],
   "source": [
    "dataDesc = []\n",
    "for i in df.columns:\n",
    "    dataDesc.append([\n",
    "        i,\n",
    "        df[i].nunique(),\n",
    "        df[i].unique()\n",
    "    ])\n",
    "\n",
    "pd.set_option('max_colwidth', None)\n",
    "\n",
    "pd.DataFrame(dataDesc, columns=[\n",
    "    'Data Features',\n",
    "    'Unique',\n",
    "    'Unique Sample'\n",
    "])"
   ]
  },
  {
   "cell_type": "code",
   "execution_count": 28,
   "id": "389864b2-55d0-40ca-81a0-6863a104797b",
   "metadata": {},
   "outputs": [],
   "source": [
    "binary_cols = ['Dependents','OnlineSecurity','OnlineBackup','DeviceProtection','TechSupport','PaperlessBilling']\n",
    "\n",
    "for col in binary_cols:\n",
    "    df[col] = df[col].map({'Yes': 1, 'No': 0})"
   ]
  },
  {
   "cell_type": "markdown",
   "id": "032758f9-d3c1-4f1b-9ab6-030f6a1ef63d",
   "metadata": {},
   "source": [
    "Digunakan label encoding untuk kolom dengan nilai biner."
   ]
  },
  {
   "cell_type": "code",
   "execution_count": 29,
   "id": "68628b19-36f8-4560-bc6b-8e116ce38452",
   "metadata": {},
   "outputs": [],
   "source": [
    "num_cols = ['tenure', 'MonthlyCharges']\n",
    "ordinal_categories = [['Month-to-month', 'One year', 'Two year']]\n",
    "\n",
    "transformer_scaled = ColumnTransformer([\n",
    "    ('onehot', OneHotEncoder(drop='first'), ['InternetService']),\n",
    "    ('binary', 'passthrough', binary_cols),\n",
    "    ('ordinal', OrdinalEncoder(categories=ordinal_categories), ['Contract']),\n",
    "    ('num', StandardScaler(), num_cols)\n",
    "])\n",
    "\n",
    "transformer_no_scale = ColumnTransformer([\n",
    "    ('onehot', OneHotEncoder(drop='first'), ['InternetService']),\n",
    "    ('binary', 'passthrough', binary_cols),\n",
    "    ('ordinal', OrdinalEncoder(categories=ordinal_categories), ['Contract']),\n",
    "    ('num', 'passthrough', num_cols)\n",
    "])"
   ]
  },
  {
   "cell_type": "markdown",
   "id": "43b6520c-ff1a-4f79-a92c-074120b9399e",
   "metadata": {},
   "source": [
    "- One-Hot Encoding untuk InternetService karena nilainya nominal dan bukan biner.\n",
    "- Label Encoding dengan OrdinalEncoder untuk Contract karena merupakan urutan.\n",
    "- Dikarenakan tidak terdapat outlier di fitur numerik maka digunakan StandardScaler untuk model yang membutuhkan scaling yaitu Logistic Regression dan KNN."
   ]
  },
  {
   "cell_type": "markdown",
   "id": "5d2d2c85-462f-4c20-82cf-b96a87155bf8",
   "metadata": {},
   "source": [
    "## Modelling"
   ]
  },
  {
   "cell_type": "markdown",
   "id": "17ebb035-29d5-45cb-ae1e-c66d9f8ea84f",
   "metadata": {},
   "source": [
    "### Split Data"
   ]
  },
  {
   "cell_type": "code",
   "execution_count": 30,
   "id": "44c697de-11a2-4dd4-af8a-347fa22f6ce0",
   "metadata": {},
   "outputs": [],
   "source": [
    "X = df.drop(columns=['Churn'])\n",
    "y = df['Churn']\n",
    "\n",
    "X_train, X_test, y_train, y_test = train_test_split(X, y, test_size=0.2, random_state=42, stratify=y)"
   ]
  },
  {
   "cell_type": "markdown",
   "id": "da66803b-463b-4162-95d1-07dec0c12488",
   "metadata": {},
   "source": [
    "### Model Benchmarking\n",
    "- Digunakan Recall Kelas 1 untuk memilih model awal sebelum handling imbalance dan hyperparameter tuning.\n",
    "- Model diharapkan mengurangi false negative dari pelanggan yang churn."
   ]
  },
  {
   "cell_type": "markdown",
   "id": "5ddd20cc-1a3d-44a6-a0e5-828ccf3b0bb3",
   "metadata": {},
   "source": [
    "#### Model Benchmarking: Train Data"
   ]
  },
  {
   "cell_type": "code",
   "execution_count": 31,
   "id": "a77df2a8-1bc5-42a6-92af-4f96a5cb85b5",
   "metadata": {},
   "outputs": [],
   "source": [
    "logreg = LogisticRegression()\n",
    "knn = KNeighborsClassifier()\n",
    "dt = DecisionTreeClassifier()\n",
    "rf = RandomForestClassifier()\n",
    "xgb = XGBClassifier()\n",
    "lgbm = lgb.LGBMClassifier()"
   ]
  },
  {
   "cell_type": "code",
   "execution_count": 32,
   "id": "92c960b2-677c-42c0-8730-ea2c29d3b4f6",
   "metadata": {},
   "outputs": [
    {
     "name": "stdout",
     "output_type": "stream",
     "text": [
      "[LightGBM] [Info] Number of positive: 824, number of negative: 2281\n",
      "[LightGBM] [Info] Auto-choosing row-wise multi-threading, the overhead of testing was 0.000481 seconds.\n",
      "You can set `force_row_wise=true` to remove the overhead.\n",
      "And if memory is not enough, you can set `force_col_wise=true`.\n",
      "[LightGBM] [Info] Total Bins 347\n",
      "[LightGBM] [Info] Number of data points in the train set: 3105, number of used features: 11\n",
      "[LightGBM] [Info] [binary:BoostFromScore]: pavg=0.265378 -> initscore=-1.018199\n",
      "[LightGBM] [Info] Start training from score -1.018199\n",
      "[LightGBM] [Info] Number of positive: 824, number of negative: 2281\n",
      "[LightGBM] [Info] Auto-choosing row-wise multi-threading, the overhead of testing was 0.000344 seconds.\n",
      "You can set `force_row_wise=true` to remove the overhead.\n",
      "And if memory is not enough, you can set `force_col_wise=true`.\n",
      "[LightGBM] [Info] Total Bins 347\n",
      "[LightGBM] [Info] Number of data points in the train set: 3105, number of used features: 11\n",
      "[LightGBM] [Info] [binary:BoostFromScore]: pavg=0.265378 -> initscore=-1.018199\n",
      "[LightGBM] [Info] Start training from score -1.018199\n",
      "[LightGBM] [Info] Number of positive: 824, number of negative: 2282\n",
      "[LightGBM] [Info] Auto-choosing row-wise multi-threading, the overhead of testing was 0.000595 seconds.\n",
      "You can set `force_row_wise=true` to remove the overhead.\n",
      "And if memory is not enough, you can set `force_col_wise=true`.\n",
      "[LightGBM] [Info] Total Bins 347\n",
      "[LightGBM] [Info] Number of data points in the train set: 3106, number of used features: 11\n",
      "[LightGBM] [Info] [binary:BoostFromScore]: pavg=0.265293 -> initscore=-1.018637\n",
      "[LightGBM] [Info] Start training from score -1.018637\n",
      "[LightGBM] [Info] Number of positive: 824, number of negative: 2282\n",
      "[LightGBM] [Info] Auto-choosing row-wise multi-threading, the overhead of testing was 0.000324 seconds.\n",
      "You can set `force_row_wise=true` to remove the overhead.\n",
      "And if memory is not enough, you can set `force_col_wise=true`.\n",
      "[LightGBM] [Info] Total Bins 347\n",
      "[LightGBM] [Info] Number of data points in the train set: 3106, number of used features: 11\n",
      "[LightGBM] [Info] [binary:BoostFromScore]: pavg=0.265293 -> initscore=-1.018637\n",
      "[LightGBM] [Info] Start training from score -1.018637\n",
      "[LightGBM] [Info] Number of positive: 824, number of negative: 2282\n",
      "[LightGBM] [Info] Auto-choosing row-wise multi-threading, the overhead of testing was 0.000351 seconds.\n",
      "You can set `force_row_wise=true` to remove the overhead.\n",
      "And if memory is not enough, you can set `force_col_wise=true`.\n",
      "[LightGBM] [Info] Total Bins 347\n",
      "[LightGBM] [Info] Number of data points in the train set: 3106, number of used features: 11\n",
      "[LightGBM] [Info] [binary:BoostFromScore]: pavg=0.265293 -> initscore=-1.018637\n",
      "[LightGBM] [Info] Start training from score -1.018637\n"
     ]
    },
    {
     "data": {
      "text/html": [
       "<div>\n",
       "<style scoped>\n",
       "    .dataframe tbody tr th:only-of-type {\n",
       "        vertical-align: middle;\n",
       "    }\n",
       "\n",
       "    .dataframe tbody tr th {\n",
       "        vertical-align: top;\n",
       "    }\n",
       "\n",
       "    .dataframe thead th {\n",
       "        text-align: right;\n",
       "    }\n",
       "</style>\n",
       "<table border=\"1\" class=\"dataframe\">\n",
       "  <thead>\n",
       "    <tr style=\"text-align: right;\">\n",
       "      <th></th>\n",
       "      <th>train mean recall</th>\n",
       "      <th>train sdev</th>\n",
       "    </tr>\n",
       "    <tr>\n",
       "      <th>model</th>\n",
       "      <th></th>\n",
       "      <th></th>\n",
       "    </tr>\n",
       "  </thead>\n",
       "  <tbody>\n",
       "    <tr>\n",
       "      <th>KNN</th>\n",
       "      <td>0.523301</td>\n",
       "      <td>0.027011</td>\n",
       "    </tr>\n",
       "    <tr>\n",
       "      <th>Logistic Regression</th>\n",
       "      <td>0.518447</td>\n",
       "      <td>0.048776</td>\n",
       "    </tr>\n",
       "    <tr>\n",
       "      <th>LightGBM</th>\n",
       "      <td>0.499029</td>\n",
       "      <td>0.012048</td>\n",
       "    </tr>\n",
       "    <tr>\n",
       "      <th>XGBoost</th>\n",
       "      <td>0.499029</td>\n",
       "      <td>0.032838</td>\n",
       "    </tr>\n",
       "    <tr>\n",
       "      <th>Decision Tree</th>\n",
       "      <td>0.479612</td>\n",
       "      <td>0.035725</td>\n",
       "    </tr>\n",
       "    <tr>\n",
       "      <th>Random Forest</th>\n",
       "      <td>0.470874</td>\n",
       "      <td>0.040382</td>\n",
       "    </tr>\n",
       "  </tbody>\n",
       "</table>\n",
       "</div>"
      ],
      "text/plain": [
       "                     train mean recall  train sdev\n",
       "model                                             \n",
       "KNN                           0.523301    0.027011\n",
       "Logistic Regression           0.518447    0.048776\n",
       "LightGBM                      0.499029    0.012048\n",
       "XGBoost                       0.499029    0.032838\n",
       "Decision Tree                 0.479612    0.035725\n",
       "Random Forest                 0.470874    0.040382"
      ]
     },
     "execution_count": 32,
     "metadata": {},
     "output_type": "execute_result"
    }
   ],
   "source": [
    "models = [logreg, knn, dt, rf, xgb, lgbm]\n",
    "score = []\n",
    "rata2 = []\n",
    "std = []\n",
    "\n",
    "skfold = StratifiedKFold(n_splits=5)\n",
    "\n",
    "for model in models:\n",
    "    if model in [logreg, knn]:\n",
    "        transformer = transformer_scaled\n",
    "    else:\n",
    "        transformer = transformer_no_scale\n",
    "        \n",
    "    pipeline = Pipeline([\n",
    "        ('preprocess', transformer),\n",
    "        ('model', model)\n",
    "    ])\n",
    "    \n",
    "    model_cv = cross_val_score(pipeline, X_train, y_train, cv=skfold, scoring='recall')\n",
    "    score.append(model_cv)\n",
    "    rata2.append(model_cv.mean())\n",
    "    std.append(model_cv.std())\n",
    "\n",
    "df_cv_train = pd.DataFrame({'model':['Logistic Regression', 'KNN', 'Decision Tree', 'Random Forest', 'XGBoost', 'LightGBM'],\n",
    "                            'train mean recall':rata2,\n",
    "                            'train sdev':std}\n",
    "                          ).set_index('model').sort_values(by='train mean recall',ascending=False)\n",
    "df_cv_train"
   ]
  },
  {
   "cell_type": "markdown",
   "id": "ed5ffe2b-7d7f-4864-8fdd-b3c9d8b45a53",
   "metadata": {},
   "source": [
    "KKN model terbaik pada train data dengan mean recall tertinggi dan standar deviasi cukup kecil."
   ]
  },
  {
   "cell_type": "markdown",
   "id": "4c323ad4-ceb5-4f75-9710-86d20b4daa76",
   "metadata": {},
   "source": [
    "#### Model Benchmarking: Test Data"
   ]
  },
  {
   "cell_type": "code",
   "execution_count": 33,
   "id": "eb1acd86-2117-4938-84d6-868a27121cff",
   "metadata": {},
   "outputs": [
    {
     "name": "stdout",
     "output_type": "stream",
     "text": [
      "[LightGBM] [Info] Number of positive: 1030, number of negative: 2852\n",
      "[LightGBM] [Info] Auto-choosing row-wise multi-threading, the overhead of testing was 0.000384 seconds.\n",
      "You can set `force_row_wise=true` to remove the overhead.\n",
      "And if memory is not enough, you can set `force_col_wise=true`.\n",
      "[LightGBM] [Info] Total Bins 347\n",
      "[LightGBM] [Info] Number of data points in the train set: 3882, number of used features: 11\n",
      "[LightGBM] [Info] [binary:BoostFromScore]: pavg=0.265327 -> initscore=-1.018462\n",
      "[LightGBM] [Info] Start training from score -1.018462\n"
     ]
    },
    {
     "data": {
      "text/html": [
       "<div>\n",
       "<style scoped>\n",
       "    .dataframe tbody tr th:only-of-type {\n",
       "        vertical-align: middle;\n",
       "    }\n",
       "\n",
       "    .dataframe tbody tr th {\n",
       "        vertical-align: top;\n",
       "    }\n",
       "\n",
       "    .dataframe thead th {\n",
       "        text-align: right;\n",
       "    }\n",
       "</style>\n",
       "<table border=\"1\" class=\"dataframe\">\n",
       "  <thead>\n",
       "    <tr style=\"text-align: right;\">\n",
       "      <th></th>\n",
       "      <th>test recall</th>\n",
       "    </tr>\n",
       "    <tr>\n",
       "      <th>model</th>\n",
       "      <th></th>\n",
       "    </tr>\n",
       "  </thead>\n",
       "  <tbody>\n",
       "    <tr>\n",
       "      <th>Logistic Regression</th>\n",
       "      <td>0.538760</td>\n",
       "    </tr>\n",
       "    <tr>\n",
       "      <th>XGBoost</th>\n",
       "      <td>0.507752</td>\n",
       "    </tr>\n",
       "    <tr>\n",
       "      <th>LightGBM</th>\n",
       "      <td>0.500000</td>\n",
       "    </tr>\n",
       "    <tr>\n",
       "      <th>Decision Tree</th>\n",
       "      <td>0.488372</td>\n",
       "    </tr>\n",
       "    <tr>\n",
       "      <th>KNN</th>\n",
       "      <td>0.457364</td>\n",
       "    </tr>\n",
       "    <tr>\n",
       "      <th>Random Forest</th>\n",
       "      <td>0.399225</td>\n",
       "    </tr>\n",
       "  </tbody>\n",
       "</table>\n",
       "</div>"
      ],
      "text/plain": [
       "                     test recall\n",
       "model                           \n",
       "Logistic Regression     0.538760\n",
       "XGBoost                 0.507752\n",
       "LightGBM                0.500000\n",
       "Decision Tree           0.488372\n",
       "KNN                     0.457364\n",
       "Random Forest           0.399225"
      ]
     },
     "execution_count": 33,
     "metadata": {},
     "output_type": "execute_result"
    }
   ],
   "source": [
    "recall_test = []\n",
    "\n",
    "for model in models:\n",
    "    if model in [logreg, knn]:\n",
    "        transformer = transformer_scaled\n",
    "    else:\n",
    "        transformer = transformer_no_scale\n",
    "        \n",
    "    pipeline = Pipeline([\n",
    "        ('preprocess', transformer),\n",
    "        ('model', model)\n",
    "    ])\n",
    "    \n",
    "    pipeline.fit(X_train, y_train)\n",
    "\n",
    "    y_pred = pipeline.predict(X_test)\n",
    "    recall = recall_score(y_test, y_pred, pos_label=1)\n",
    "\n",
    "    recall_test.append(recall)\n",
    "    \n",
    "df_cv_test = pd.DataFrame({'model':['Logistic Regression', 'KNN', 'Decision Tree', 'Random Forest', 'XGBoost', 'LightGBM'],\n",
    "                            'test recall':recall_test}\n",
    "                          ).set_index('model').sort_values(by='test recall',ascending=False)\n",
    "\n",
    "df_cv_test"
   ]
  },
  {
   "cell_type": "markdown",
   "id": "10b69648-6fd3-4360-a0fc-7be1588dba69",
   "metadata": {},
   "source": [
    "Logistic Regression model terbaik pada test data dengan recall tertinggi."
   ]
  },
  {
   "cell_type": "code",
   "execution_count": 34,
   "id": "d759526b-828a-4baa-b52f-689b1486cd76",
   "metadata": {},
   "outputs": [
    {
     "data": {
      "text/html": [
       "<div>\n",
       "<style scoped>\n",
       "    .dataframe tbody tr th:only-of-type {\n",
       "        vertical-align: middle;\n",
       "    }\n",
       "\n",
       "    .dataframe tbody tr th {\n",
       "        vertical-align: top;\n",
       "    }\n",
       "\n",
       "    .dataframe thead th {\n",
       "        text-align: right;\n",
       "    }\n",
       "</style>\n",
       "<table border=\"1\" class=\"dataframe\">\n",
       "  <thead>\n",
       "    <tr style=\"text-align: right;\">\n",
       "      <th></th>\n",
       "      <th>train mean recall</th>\n",
       "      <th>train sdev</th>\n",
       "      <th>test recall</th>\n",
       "    </tr>\n",
       "    <tr>\n",
       "      <th>model</th>\n",
       "      <th></th>\n",
       "      <th></th>\n",
       "      <th></th>\n",
       "    </tr>\n",
       "  </thead>\n",
       "  <tbody>\n",
       "    <tr>\n",
       "      <th>Logistic Regression</th>\n",
       "      <td>0.518447</td>\n",
       "      <td>0.048776</td>\n",
       "      <td>0.538760</td>\n",
       "    </tr>\n",
       "    <tr>\n",
       "      <th>XGBoost</th>\n",
       "      <td>0.499029</td>\n",
       "      <td>0.032838</td>\n",
       "      <td>0.507752</td>\n",
       "    </tr>\n",
       "    <tr>\n",
       "      <th>LightGBM</th>\n",
       "      <td>0.499029</td>\n",
       "      <td>0.012048</td>\n",
       "      <td>0.500000</td>\n",
       "    </tr>\n",
       "    <tr>\n",
       "      <th>Decision Tree</th>\n",
       "      <td>0.479612</td>\n",
       "      <td>0.035725</td>\n",
       "      <td>0.488372</td>\n",
       "    </tr>\n",
       "    <tr>\n",
       "      <th>KNN</th>\n",
       "      <td>0.523301</td>\n",
       "      <td>0.027011</td>\n",
       "      <td>0.457364</td>\n",
       "    </tr>\n",
       "    <tr>\n",
       "      <th>Random Forest</th>\n",
       "      <td>0.470874</td>\n",
       "      <td>0.040382</td>\n",
       "      <td>0.399225</td>\n",
       "    </tr>\n",
       "  </tbody>\n",
       "</table>\n",
       "</div>"
      ],
      "text/plain": [
       "                     train mean recall  train sdev  test recall\n",
       "model                                                          \n",
       "Logistic Regression           0.518447    0.048776     0.538760\n",
       "XGBoost                       0.499029    0.032838     0.507752\n",
       "LightGBM                      0.499029    0.012048     0.500000\n",
       "Decision Tree                 0.479612    0.035725     0.488372\n",
       "KNN                           0.523301    0.027011     0.457364\n",
       "Random Forest                 0.470874    0.040382     0.399225"
      ]
     },
     "execution_count": 34,
     "metadata": {},
     "output_type": "execute_result"
    }
   ],
   "source": [
    "df_cv = pd.merge(df_cv_train, df_cv_test, on='model')\n",
    "df_cv = df_cv.sort_values(by='test recall', ascending=False)\n",
    "\n",
    "df_cv"
   ]
  },
  {
   "cell_type": "markdown",
   "id": "26c2e658-77f5-4cdf-8661-beeb73f59382",
   "metadata": {},
   "source": [
    "- Logistic Regression memiliki recall test lebih tinggi daripada train artinya indikasi tidak overfit.\n",
    "- Model Logistic Regression juga konsisten kedua tertinggi di train dan tertinggi di test.\n",
    "- Oleh karena itu, selanjutnya digunakan Logistic Regression dan melakukan handling imbalance dan hyperparameter tuning.\n",
    "- Ini dilakukan untuk mengetahui hasil terbaik dari model Logistic Regression."
   ]
  },
  {
   "cell_type": "markdown",
   "id": "b6d3fe29-dce1-4efb-aa0b-1ff25f74f150",
   "metadata": {},
   "source": [
    "### Cara Kerja Logistic Regression\n",
    "Logistic regression merupakan metode statistik untuk memprediksi kejadian biner. Metode ini dapat mencakup hanya satu maupun beberapa variabel independen. Model ini meprediksi kemungkinan dari suatu kejadian dengan persamaan:\n",
    "$$ \\text{Probability of outcome}(\\hat{Y_i}) = \\frac{e^{\\beta_0+\\beta_1 X_1+\\beta_2 X_2+...+\\beta_i X_i}}{1 + e^{\\beta_0+\\beta_1 X_1+\\beta_2 X_2+...+\\beta_i X_i}} $$\n",
    "- $\\hat{Y_i}$ merepresentasikan estimasi probabilitas yang ada dalam satu kategori hasil biner (i) versus kategori lainnya.\n",
    "- Persamaan $e^{\\beta_0+\\beta_1 X_1+\\beta_2 X_2+...+\\beta_i X_i}$ merupakan persamaan regresi linier untuk variabel independen yang dinyatakan dalam skala logit.\n",
    "\n",
    "Transformasi skala logit ini dilakukan karena hasil dari model yang biner dinyatakan sebagai probabilitas dengan nilai antara 0 dan 1. Di sisi lain, variabel independen nilainya dapat berupa bilangan apapun sehingga skala logit dibutuhkan dalam perbedaan jenis bilangan ini. Hubungan hasil dan variabel independen ditunjukkan persamaan berikut:\n",
    "$$ \\ln(\\frac{\\hat{Y}}{1 - \\hat{Y}}) = \\beta_0 + \\beta_1 X_1 + \\beta_2 X_2 + ... + \\beta_i X_i $$\n",
    "\n",
    "Sumber: https://onlinelibrary.wiley.com/doi/full/10.1111/j.1553-2712.2011.01185.x"
   ]
  },
  {
   "cell_type": "markdown",
   "id": "c1de7809-8603-4c04-910b-108b50a41ae8",
   "metadata": {},
   "source": [
    "### Handling Imbalance"
   ]
  },
  {
   "cell_type": "code",
   "execution_count": 35,
   "id": "43399e53-2045-4e23-9dfd-cdad442c9529",
   "metadata": {},
   "outputs": [],
   "source": [
    "def Eva_metrics_base_class(model, X_train, X_test, y_train, y_test, Nama, fit=False):\n",
    "    if fit == False:\n",
    "        Model = model.fit(X_train, y_train)\n",
    "    else:\n",
    "        Model = model\n",
    "    y_pred_train = Model.predict(X_train)\n",
    "    Acc_train = accuracy_score(y_train, y_pred_train)\n",
    "    Rec_train = recall_score(y_train, y_pred_train)\n",
    "    Prec_train = precision_score(y_train, y_pred_train)\n",
    "    F1_train = f1_score(y_train, y_pred_train)\n",
    "    \n",
    "    y_pred_test = Model.predict(X_test)\n",
    "    Acc_test = accuracy_score(y_test, y_pred_test)\n",
    "    Rec_test = recall_score(y_test, y_pred_test)\n",
    "    Prec_test = precision_score(y_test, y_pred_test)\n",
    "    F1_test = f1_score(y_test, y_pred_test)\n",
    "    \n",
    "    data = {\n",
    "        Nama + ' Training' : [Acc_train, Rec_train, Prec_train, F1_train],\n",
    "        Nama + ' Testing' : [Acc_test, Rec_test, Prec_test, F1_test]\n",
    "    }\n",
    "    df = pd.DataFrame(data, index=['Accuracy', 'Recall', 'Precision', 'F1'])\n",
    "    \n",
    "    cr_tr = classification_report(y_train, y_pred_train)\n",
    "    cm_tr = confusion_matrix(y_train, y_pred_train, labels=[1, 0])\n",
    "    df_tr = pd. DataFrame(data=cm_tr, columns=['Pred 1', 'Pred 0'], index=['Akt 1', 'Akt 0' ])\n",
    "    \n",
    "    cr_ts = classification_report(y_test, y_pred_test)\n",
    "    cm_ts = confusion_matrix(y_test, y_pred_test, labels=[1, 0])\n",
    "    df_ts = pd. DataFrame(data=cm_ts, columns=['Pred 1', 'Pred 0'], index=[ 'Akt 1', 'Akt 0'])\n",
    "    \n",
    "    return df, cr_tr, df_tr, cr_ts, df_ts"
   ]
  },
  {
   "cell_type": "markdown",
   "id": "7e997100-2811-4963-8988-f98911714b41",
   "metadata": {},
   "source": [
    "#### Logistic Regression (Base)"
   ]
  },
  {
   "cell_type": "code",
   "execution_count": 36,
   "id": "d579ea52-a94b-4605-87fc-8f237f2a3e5a",
   "metadata": {},
   "outputs": [],
   "source": [
    "logreg_plain = LogisticRegression(random_state=42)\n",
    "\n",
    "pipeline_plain = Pipeline([\n",
    "    ('preprocess', transformer_scaled),\n",
    "    ('model', logreg_plain)\n",
    "])\n",
    "\n",
    "df_eval, cr_train, cm_train, cr_test, cm_test = Eva_metrics_base_class(\n",
    "    pipeline_plain,\n",
    "    X_train, X_test,\n",
    "    y_train, y_test,\n",
    "    'Logistic Regression (Base)'\n",
    ")"
   ]
  },
  {
   "cell_type": "markdown",
   "id": "741c0222-2ce4-45f7-b97e-acd6a756f856",
   "metadata": {},
   "source": [
    "#### Logistic Regression (Balanced Class Weight)"
   ]
  },
  {
   "cell_type": "code",
   "execution_count": 37,
   "id": "4c1b4992-1ab1-43fa-98a8-3366c3bf92c5",
   "metadata": {},
   "outputs": [],
   "source": [
    "logreg_balanced = LogisticRegression(random_state=42, class_weight='balanced')\n",
    "\n",
    "pipeline_balanced = Pipeline([\n",
    "    ('preprocess', transformer_scaled),\n",
    "    ('model', logreg_balanced)\n",
    "])\n",
    "\n",
    "df_eval_bal, cr_train_bal, cm_train_bal, cr_test_bal, cm_test_bal = Eva_metrics_base_class(\n",
    "    pipeline_balanced,\n",
    "    X_train, X_test,\n",
    "    y_train, y_test,\n",
    "    'Logistic Regression (Balanced)'\n",
    ")"
   ]
  },
  {
   "cell_type": "markdown",
   "id": "d310ce94-3fb1-4ec9-9a5b-17abfae1160b",
   "metadata": {},
   "source": [
    "#### Logistic Regression (Random Over Sampling)"
   ]
  },
  {
   "cell_type": "code",
   "execution_count": 38,
   "id": "22cade88-1f63-4198-9857-1c293aab0f06",
   "metadata": {},
   "outputs": [],
   "source": [
    "logreg_ros = LogisticRegression(random_state=42)\n",
    "\n",
    "pipeline_ros = ImbPipeline([\n",
    "    ('preprocess', transformer_scaled),\n",
    "    ('oversample', RandomOverSampler(random_state=42)),\n",
    "    ('model', logreg_ros)\n",
    "])\n",
    "\n",
    "df_eval_ros, cr_train_ros, cm_train_ros, cr_test_ros, cm_test_ros = Eva_metrics_base_class(\n",
    "    pipeline_ros,\n",
    "    X_train, X_test,\n",
    "    y_train, y_test,\n",
    "    'Logistic Regression (RandomOverSampler)'\n",
    ")"
   ]
  },
  {
   "cell_type": "markdown",
   "id": "ac141501-f01c-45a6-a2e8-7c8997b574fc",
   "metadata": {},
   "source": [
    "#### Logistic Regression (SMOTE)"
   ]
  },
  {
   "cell_type": "code",
   "execution_count": 39,
   "id": "c5875d95-fe4c-46e3-9515-902ae33d17f8",
   "metadata": {},
   "outputs": [],
   "source": [
    "logreg_smote = LogisticRegression(random_state=42)\n",
    "\n",
    "pipeline_smote = ImbPipeline([\n",
    "    ('preprocess', transformer_scaled),\n",
    "    ('smote', SMOTE(random_state=42)),\n",
    "    ('model', logreg_smote)\n",
    "])\n",
    "\n",
    "df_eval_smote, cr_train_smote, cm_train_smote, cr_test_smote, cm_test_smote = Eva_metrics_base_class(\n",
    "    pipeline_smote,\n",
    "    X_train, X_test,\n",
    "    y_train, y_test,\n",
    "    'Logistic Regression (SMOTE)'\n",
    ")"
   ]
  },
  {
   "cell_type": "markdown",
   "id": "9c5301ce-bbaa-42de-a65c-7d78f56719fd",
   "metadata": {},
   "source": [
    "#### Evaluasi Handling Imbalance"
   ]
  },
  {
   "cell_type": "code",
   "execution_count": 40,
   "id": "44c22fe5-4c0b-4bcc-96eb-845620d78316",
   "metadata": {},
   "outputs": [
    {
     "data": {
      "text/html": [
       "<div>\n",
       "<style scoped>\n",
       "    .dataframe tbody tr th:only-of-type {\n",
       "        vertical-align: middle;\n",
       "    }\n",
       "\n",
       "    .dataframe tbody tr th {\n",
       "        vertical-align: top;\n",
       "    }\n",
       "\n",
       "    .dataframe thead th {\n",
       "        text-align: right;\n",
       "    }\n",
       "</style>\n",
       "<table border=\"1\" class=\"dataframe\">\n",
       "  <thead>\n",
       "    <tr style=\"text-align: right;\">\n",
       "      <th></th>\n",
       "      <th>Accuracy</th>\n",
       "      <th>Recall</th>\n",
       "      <th>Precision</th>\n",
       "      <th>F1</th>\n",
       "    </tr>\n",
       "  </thead>\n",
       "  <tbody>\n",
       "    <tr>\n",
       "      <th>Logistic Regression (Base) Training</th>\n",
       "      <td>0.795209</td>\n",
       "      <td>0.524272</td>\n",
       "      <td>0.639053</td>\n",
       "      <td>0.576000</td>\n",
       "    </tr>\n",
       "    <tr>\n",
       "      <th>Logistic Regression (Base) Testing</th>\n",
       "      <td>0.795057</td>\n",
       "      <td>0.538760</td>\n",
       "      <td>0.634703</td>\n",
       "      <td>0.582809</td>\n",
       "    </tr>\n",
       "    <tr>\n",
       "      <th>Logistic Regression (Balanced) Training</th>\n",
       "      <td>0.746265</td>\n",
       "      <td>0.800971</td>\n",
       "      <td>0.514019</td>\n",
       "      <td>0.626186</td>\n",
       "    </tr>\n",
       "    <tr>\n",
       "      <th>Logistic Regression (Balanced) Testing</th>\n",
       "      <td>0.745623</td>\n",
       "      <td>0.806202</td>\n",
       "      <td>0.513580</td>\n",
       "      <td>0.627451</td>\n",
       "    </tr>\n",
       "    <tr>\n",
       "      <th>Logistic Regression (RandomOverSampler) Training</th>\n",
       "      <td>0.744204</td>\n",
       "      <td>0.801942</td>\n",
       "      <td>0.511455</td>\n",
       "      <td>0.624575</td>\n",
       "    </tr>\n",
       "    <tr>\n",
       "      <th>Logistic Regression (RandomOverSampler) Testing</th>\n",
       "      <td>0.747683</td>\n",
       "      <td>0.810078</td>\n",
       "      <td>0.516049</td>\n",
       "      <td>0.630468</td>\n",
       "    </tr>\n",
       "    <tr>\n",
       "      <th>Logistic Regression (SMOTE) Training</th>\n",
       "      <td>0.744977</td>\n",
       "      <td>0.790291</td>\n",
       "      <td>0.512594</td>\n",
       "      <td>0.621849</td>\n",
       "    </tr>\n",
       "    <tr>\n",
       "      <th>Logistic Regression (SMOTE) Testing</th>\n",
       "      <td>0.746653</td>\n",
       "      <td>0.794574</td>\n",
       "      <td>0.515075</td>\n",
       "      <td>0.625000</td>\n",
       "    </tr>\n",
       "  </tbody>\n",
       "</table>\n",
       "</div>"
      ],
      "text/plain": [
       "                                                  Accuracy    Recall  \\\n",
       "Logistic Regression (Base) Training               0.795209  0.524272   \n",
       "Logistic Regression (Base) Testing                0.795057  0.538760   \n",
       "Logistic Regression (Balanced) Training           0.746265  0.800971   \n",
       "Logistic Regression (Balanced) Testing            0.745623  0.806202   \n",
       "Logistic Regression (RandomOverSampler) Training  0.744204  0.801942   \n",
       "Logistic Regression (RandomOverSampler) Testing   0.747683  0.810078   \n",
       "Logistic Regression (SMOTE) Training              0.744977  0.790291   \n",
       "Logistic Regression (SMOTE) Testing               0.746653  0.794574   \n",
       "\n",
       "                                                  Precision        F1  \n",
       "Logistic Regression (Base) Training                0.639053  0.576000  \n",
       "Logistic Regression (Base) Testing                 0.634703  0.582809  \n",
       "Logistic Regression (Balanced) Training            0.514019  0.626186  \n",
       "Logistic Regression (Balanced) Testing             0.513580  0.627451  \n",
       "Logistic Regression (RandomOverSampler) Training   0.511455  0.624575  \n",
       "Logistic Regression (RandomOverSampler) Testing    0.516049  0.630468  \n",
       "Logistic Regression (SMOTE) Training               0.512594  0.621849  \n",
       "Logistic Regression (SMOTE) Testing                0.515075  0.625000  "
      ]
     },
     "execution_count": 40,
     "metadata": {},
     "output_type": "execute_result"
    }
   ],
   "source": [
    "df_eval_imb = pd.concat([df_eval, df_eval_bal, df_eval_ros, df_eval_smote], axis=1)\n",
    "df_eval_imb.T"
   ]
  },
  {
   "cell_type": "markdown",
   "id": "603336cf-f304-4a89-9fe4-731c8dba5dc8",
   "metadata": {},
   "source": [
    "- Tidak ada indikasi overfitting karena performa training dan testing sangat dekat.\n",
    "- Tidak ada indikasi underfitting karena model masih punya performa yang layak (tidak terlalu rendah).\n",
    "- Model Logistic Regression dengan Imbalance handling sengaja mengorbankan accuracy untuk recall yang lebih tinggi dan ini tercapai dengan baik tanpa overfitting."
   ]
  },
  {
   "cell_type": "code",
   "execution_count": 41,
   "id": "211bd9e9-dea7-4c96-9639-3c3da181feb6",
   "metadata": {},
   "outputs": [
    {
     "data": {
      "text/html": [
       "<div>\n",
       "<style scoped>\n",
       "    .dataframe tbody tr th:only-of-type {\n",
       "        vertical-align: middle;\n",
       "    }\n",
       "\n",
       "    .dataframe tbody tr th {\n",
       "        vertical-align: top;\n",
       "    }\n",
       "\n",
       "    .dataframe thead th {\n",
       "        text-align: right;\n",
       "    }\n",
       "</style>\n",
       "<table border=\"1\" class=\"dataframe\">\n",
       "  <thead>\n",
       "    <tr style=\"text-align: right;\">\n",
       "      <th></th>\n",
       "      <th>Accuracy</th>\n",
       "      <th>Recall</th>\n",
       "      <th>Precision</th>\n",
       "      <th>F1</th>\n",
       "    </tr>\n",
       "  </thead>\n",
       "  <tbody>\n",
       "    <tr>\n",
       "      <th>Logistic Regression (RandomOverSampler) Testing</th>\n",
       "      <td>0.747683</td>\n",
       "      <td>0.810078</td>\n",
       "      <td>0.516049</td>\n",
       "      <td>0.630468</td>\n",
       "    </tr>\n",
       "    <tr>\n",
       "      <th>Logistic Regression (Balanced) Testing</th>\n",
       "      <td>0.745623</td>\n",
       "      <td>0.806202</td>\n",
       "      <td>0.513580</td>\n",
       "      <td>0.627451</td>\n",
       "    </tr>\n",
       "    <tr>\n",
       "      <th>Logistic Regression (SMOTE) Testing</th>\n",
       "      <td>0.746653</td>\n",
       "      <td>0.794574</td>\n",
       "      <td>0.515075</td>\n",
       "      <td>0.625000</td>\n",
       "    </tr>\n",
       "    <tr>\n",
       "      <th>Logistic Regression (Base) Testing</th>\n",
       "      <td>0.795057</td>\n",
       "      <td>0.538760</td>\n",
       "      <td>0.634703</td>\n",
       "      <td>0.582809</td>\n",
       "    </tr>\n",
       "  </tbody>\n",
       "</table>\n",
       "</div>"
      ],
      "text/plain": [
       "                                                 Accuracy    Recall  \\\n",
       "Logistic Regression (RandomOverSampler) Testing  0.747683  0.810078   \n",
       "Logistic Regression (Balanced) Testing           0.745623  0.806202   \n",
       "Logistic Regression (SMOTE) Testing              0.746653  0.794574   \n",
       "Logistic Regression (Base) Testing               0.795057  0.538760   \n",
       "\n",
       "                                                 Precision        F1  \n",
       "Logistic Regression (RandomOverSampler) Testing   0.516049  0.630468  \n",
       "Logistic Regression (Balanced) Testing            0.513580  0.627451  \n",
       "Logistic Regression (SMOTE) Testing               0.515075  0.625000  \n",
       "Logistic Regression (Base) Testing                0.634703  0.582809  "
      ]
     },
     "execution_count": 41,
     "metadata": {},
     "output_type": "execute_result"
    }
   ],
   "source": [
    "df_eval_imb_test = df_eval_imb.T.iloc[1::2].sort_values(by='Recall', ascending=False)\n",
    "df_eval_imb_test"
   ]
  },
  {
   "cell_type": "markdown",
   "id": "06d6e82c-16bd-4325-a3f2-1b1db00433c7",
   "metadata": {},
   "source": [
    "- Dikarenakan perusahaan ingin mendeteksi sebanyak mungkin pelanggan yang churn maka recall kelas 1 menjadi fokus dari model.\n",
    "- Model Logistic Regression dengan Imbalance handling memiliki recall kelas 1 yang lebih tinggi dari base model.\n",
    "- Ketiga metode Imbalance handling memiliki recall kelas 1 yang hampir sama dengan nilai tertinggi pada metode Random Over Sampling.\n",
    "- Dikarenakan kemiripan recall kelas 1 dari ketiga metode Imbalance handling , hyperparameter tuning akan dilakukan untuk mengetahui yang terbaik."
   ]
  },
  {
   "cell_type": "markdown",
   "id": "7473220f-0a12-4dc1-9194-e29360ba0c91",
   "metadata": {},
   "source": [
    "### Hyperparameter Tuning"
   ]
  },
  {
   "cell_type": "code",
   "execution_count": 42,
   "id": "1123b445-25b2-478f-b639-261cec439262",
   "metadata": {},
   "outputs": [
    {
     "name": "stdout",
     "output_type": "stream",
     "text": [
      "GridSearchCV untuk class_weight balanced...\n",
      "Best params: {'model__C': 0.01, 'model__penalty': 'l2', 'model__solver': 'lbfgs'}\n",
      "Best CV recall: 0.8097\n",
      "\n",
      "GridSearchCV untuk RandomOverSampler...\n",
      "Best params: {'model__C': 0.01, 'model__penalty': 'l2', 'model__solver': 'lbfgs'}\n",
      "Best CV recall: 0.8087\n",
      "\n",
      "GridSearchCV untuk SMOTE...\n",
      "Best params: {'model__C': 0.01, 'model__penalty': 'l2', 'model__solver': 'lbfgs'}\n",
      "Best CV recall: 0.8010\n",
      "\n"
     ]
    }
   ],
   "source": [
    "skfold = StratifiedKFold(n_splits=5, shuffle=True, random_state=42)\n",
    "\n",
    "logreg = LogisticRegression(random_state=42)\n",
    "\n",
    "pipe_balanced = Pipeline([\n",
    "    ('preprocess', transformer_scaled),\n",
    "    ('model', LogisticRegression(random_state=42, class_weight='balanced'))\n",
    "])\n",
    "\n",
    "params_balanced = {\n",
    "    'model__C': [0.01, 0.1, 1, 10, 100],\n",
    "    'model__penalty': ['l2'],\n",
    "    'model__solver': ['lbfgs']\n",
    "}\n",
    "\n",
    "pipe_ros = ImbPipeline([\n",
    "    ('preprocess', transformer_scaled),\n",
    "    ('oversample', RandomOverSampler(random_state=42)),\n",
    "    ('model', logreg)\n",
    "])\n",
    "\n",
    "params_ros = {\n",
    "    'model__C': [0.01, 0.1, 1, 10, 100],\n",
    "    'model__penalty': ['l2'],\n",
    "    'model__solver': ['lbfgs']\n",
    "}\n",
    "\n",
    "pipe_smote = ImbPipeline([\n",
    "    ('preprocess', transformer_scaled),\n",
    "    ('oversample', SMOTE(random_state=42)),\n",
    "    ('model', logreg)\n",
    "])\n",
    "\n",
    "params_smote = {\n",
    "    'model__C': [0.01, 0.1, 1, 10, 100],\n",
    "    'model__penalty': ['l2'],\n",
    "    'model__solver': ['lbfgs']\n",
    "}\n",
    "\n",
    "def run_grid_search(pipe, params, X_train, y_train, label):\n",
    "    print(f'GridSearchCV untuk {label}...')\n",
    "    gs = GridSearchCV(pipe, param_grid=params, cv=skfold, scoring='recall', n_jobs=-1)\n",
    "    gs.fit(X_train, y_train)\n",
    "    print(f'Best params: {gs.best_params_}')\n",
    "    print(f'Best CV recall: {gs.best_score_:.4f}\\n')\n",
    "    return gs.best_estimator_\n",
    "\n",
    "balanced_tuning = run_grid_search(pipe_balanced, params_balanced, X_train, y_train, 'class_weight balanced')\n",
    "ros_tuning = run_grid_search(pipe_ros, params_ros, X_train, y_train, 'RandomOverSampler')\n",
    "smote_tuning = run_grid_search(pipe_smote, params_smote, X_train, y_train, 'SMOTE')"
   ]
  },
  {
   "cell_type": "markdown",
   "id": "5a3f1063-046c-4b2e-b529-681a48259909",
   "metadata": {},
   "source": [
    "- model__C: Ini adalah parameter regularisasi di Logistic Regression.\n",
    "  - Nilai C adalah inverse dari strength regularization.\n",
    "  - Nilai kecil regularisasinya kuat artinya model lebih sederhana dan mengurangi overfitting.\n",
    "  - Nilai besar regularisasinya lemah artinya model lebih fleksibel.\n",
    "  - Dicoba beberapa nilai agar ditemukan trade-off terbaik antara bias dan variance.\n",
    "- model__penalty: Penalti regularisasi yang dipakai adalah L2 (Ridge) yang merupakan standar dan umum untuk Logistic Regression.\n",
    "- model__solver: lbfgs solver merupakan algoritma optimisasi untuk fitting Logistic Regression yang bagus untuk L2 penalty.\n",
    "- Ketiga metode imbalance handling mendapatkan hyperparameter terbaik yang sama yaitu dengan model__C 0.01."
   ]
  },
  {
   "cell_type": "code",
   "execution_count": 43,
   "id": "8862bd39-5346-4ebf-b704-6da408709bd1",
   "metadata": {},
   "outputs": [],
   "source": [
    "df_eval_bal_tuned, cr_train_bal_tuned, cm_train_bal_tuned, cr_test_bal_tuned, cm_test_smote_tuned = Eva_metrics_base_class(\n",
    "    balanced_tuning,\n",
    "    X_train, X_test,\n",
    "    y_train, y_test,\n",
    "    'Logistic Regression (Balanced Tuned)',\n",
    "    True\n",
    ")\n",
    "\n",
    "df_eval_ros_tuned, cr_train_ros_tuned, cm_train_ros_tuned, cr_test_ros_tuned, cm_test_smote_tuned = Eva_metrics_base_class(\n",
    "    ros_tuning,\n",
    "    X_train, X_test,\n",
    "    y_train, y_test,\n",
    "    'Logistic Regression (RandomOverSampler Tuned)',\n",
    "    True\n",
    ")\n",
    "\n",
    "df_eval_smote_tuned, cr_train_smote_tuned, cm_train_smote_tuned, cr_test_smote_tuned, cm_test_smote_tuned = Eva_metrics_base_class(\n",
    "    smote_tuning,\n",
    "    X_train, X_test,\n",
    "    y_train, y_test,\n",
    "    'Logistic Regression (SMOTE Tuned)',\n",
    "    True\n",
    ")"
   ]
  },
  {
   "cell_type": "markdown",
   "id": "4e00181b-85d2-44e8-a01e-2f46d1fc5567",
   "metadata": {},
   "source": [
    "#### Evaluasi Hyperparameter Tuning"
   ]
  },
  {
   "cell_type": "code",
   "execution_count": 44,
   "id": "37bbe8d5-d741-46df-b4da-c9d274e3a753",
   "metadata": {},
   "outputs": [
    {
     "data": {
      "text/html": [
       "<div>\n",
       "<style scoped>\n",
       "    .dataframe tbody tr th:only-of-type {\n",
       "        vertical-align: middle;\n",
       "    }\n",
       "\n",
       "    .dataframe tbody tr th {\n",
       "        vertical-align: top;\n",
       "    }\n",
       "\n",
       "    .dataframe thead th {\n",
       "        text-align: right;\n",
       "    }\n",
       "</style>\n",
       "<table border=\"1\" class=\"dataframe\">\n",
       "  <thead>\n",
       "    <tr style=\"text-align: right;\">\n",
       "      <th></th>\n",
       "      <th>Accuracy</th>\n",
       "      <th>Recall</th>\n",
       "      <th>Precision</th>\n",
       "      <th>F1</th>\n",
       "    </tr>\n",
       "  </thead>\n",
       "  <tbody>\n",
       "    <tr>\n",
       "      <th>Logistic Regression (Balanced) Training</th>\n",
       "      <td>0.746265</td>\n",
       "      <td>0.800971</td>\n",
       "      <td>0.514019</td>\n",
       "      <td>0.626186</td>\n",
       "    </tr>\n",
       "    <tr>\n",
       "      <th>Logistic Regression (Balanced) Testing</th>\n",
       "      <td>0.745623</td>\n",
       "      <td>0.806202</td>\n",
       "      <td>0.513580</td>\n",
       "      <td>0.627451</td>\n",
       "    </tr>\n",
       "    <tr>\n",
       "      <th>Logistic Regression (RandomOverSampler) Training</th>\n",
       "      <td>0.744204</td>\n",
       "      <td>0.801942</td>\n",
       "      <td>0.511455</td>\n",
       "      <td>0.624575</td>\n",
       "    </tr>\n",
       "    <tr>\n",
       "      <th>Logistic Regression (RandomOverSampler) Testing</th>\n",
       "      <td>0.747683</td>\n",
       "      <td>0.810078</td>\n",
       "      <td>0.516049</td>\n",
       "      <td>0.630468</td>\n",
       "    </tr>\n",
       "    <tr>\n",
       "      <th>Logistic Regression (SMOTE) Training</th>\n",
       "      <td>0.744977</td>\n",
       "      <td>0.790291</td>\n",
       "      <td>0.512594</td>\n",
       "      <td>0.621849</td>\n",
       "    </tr>\n",
       "    <tr>\n",
       "      <th>Logistic Regression (SMOTE) Testing</th>\n",
       "      <td>0.746653</td>\n",
       "      <td>0.794574</td>\n",
       "      <td>0.515075</td>\n",
       "      <td>0.625000</td>\n",
       "    </tr>\n",
       "    <tr>\n",
       "      <th>Logistic Regression (Balanced Tuned) Training</th>\n",
       "      <td>0.740082</td>\n",
       "      <td>0.811650</td>\n",
       "      <td>0.506360</td>\n",
       "      <td>0.623648</td>\n",
       "    </tr>\n",
       "    <tr>\n",
       "      <th>Logistic Regression (Balanced Tuned) Testing</th>\n",
       "      <td>0.750772</td>\n",
       "      <td>0.833333</td>\n",
       "      <td>0.519324</td>\n",
       "      <td>0.639881</td>\n",
       "    </tr>\n",
       "    <tr>\n",
       "      <th>Logistic Regression (RandomOverSampler Tuned) Training</th>\n",
       "      <td>0.739310</td>\n",
       "      <td>0.809709</td>\n",
       "      <td>0.505455</td>\n",
       "      <td>0.622388</td>\n",
       "    </tr>\n",
       "    <tr>\n",
       "      <th>Logistic Regression (RandomOverSampler Tuned) Testing</th>\n",
       "      <td>0.748713</td>\n",
       "      <td>0.829457</td>\n",
       "      <td>0.516908</td>\n",
       "      <td>0.636905</td>\n",
       "    </tr>\n",
       "    <tr>\n",
       "      <th>Logistic Regression (SMOTE Tuned) Training</th>\n",
       "      <td>0.739052</td>\n",
       "      <td>0.798058</td>\n",
       "      <td>0.505224</td>\n",
       "      <td>0.618743</td>\n",
       "    </tr>\n",
       "    <tr>\n",
       "      <th>Logistic Regression (SMOTE Tuned) Testing</th>\n",
       "      <td>0.750772</td>\n",
       "      <td>0.825581</td>\n",
       "      <td>0.519512</td>\n",
       "      <td>0.637725</td>\n",
       "    </tr>\n",
       "  </tbody>\n",
       "</table>\n",
       "</div>"
      ],
      "text/plain": [
       "                                                        Accuracy    Recall  \\\n",
       "Logistic Regression (Balanced) Training                 0.746265  0.800971   \n",
       "Logistic Regression (Balanced) Testing                  0.745623  0.806202   \n",
       "Logistic Regression (RandomOverSampler) Training        0.744204  0.801942   \n",
       "Logistic Regression (RandomOverSampler) Testing         0.747683  0.810078   \n",
       "Logistic Regression (SMOTE) Training                    0.744977  0.790291   \n",
       "Logistic Regression (SMOTE) Testing                     0.746653  0.794574   \n",
       "Logistic Regression (Balanced Tuned) Training           0.740082  0.811650   \n",
       "Logistic Regression (Balanced Tuned) Testing            0.750772  0.833333   \n",
       "Logistic Regression (RandomOverSampler Tuned) Training  0.739310  0.809709   \n",
       "Logistic Regression (RandomOverSampler Tuned) Testing   0.748713  0.829457   \n",
       "Logistic Regression (SMOTE Tuned) Training              0.739052  0.798058   \n",
       "Logistic Regression (SMOTE Tuned) Testing               0.750772  0.825581   \n",
       "\n",
       "                                                        Precision        F1  \n",
       "Logistic Regression (Balanced) Training                  0.514019  0.626186  \n",
       "Logistic Regression (Balanced) Testing                   0.513580  0.627451  \n",
       "Logistic Regression (RandomOverSampler) Training         0.511455  0.624575  \n",
       "Logistic Regression (RandomOverSampler) Testing          0.516049  0.630468  \n",
       "Logistic Regression (SMOTE) Training                     0.512594  0.621849  \n",
       "Logistic Regression (SMOTE) Testing                      0.515075  0.625000  \n",
       "Logistic Regression (Balanced Tuned) Training            0.506360  0.623648  \n",
       "Logistic Regression (Balanced Tuned) Testing             0.519324  0.639881  \n",
       "Logistic Regression (RandomOverSampler Tuned) Training   0.505455  0.622388  \n",
       "Logistic Regression (RandomOverSampler Tuned) Testing    0.516908  0.636905  \n",
       "Logistic Regression (SMOTE Tuned) Training               0.505224  0.618743  \n",
       "Logistic Regression (SMOTE Tuned) Testing                0.519512  0.637725  "
      ]
     },
     "execution_count": 44,
     "metadata": {},
     "output_type": "execute_result"
    }
   ],
   "source": [
    "df_eval_tun = pd.concat([df_eval_bal, df_eval_ros, df_eval_smote, df_eval_bal_tuned, df_eval_ros_tuned, df_eval_smote_tuned], axis=1)\n",
    "df_eval_tun.T"
   ]
  },
  {
   "cell_type": "markdown",
   "id": "979a9b1f-0166-4b69-9609-5003a0d3ae4c",
   "metadata": {},
   "source": [
    "- Tidak ada indikasi overfitting karena performa training dan testing sangat mirip di semua metrik dan model.\n",
    "- Tidak ada indikasi underfitting karena model masih punya performa yang layak (tidak terlalu rendah).\n",
    "- Model dengan tuning menunjukkan peningkatan performa testing artinya tuning efektif."
   ]
  },
  {
   "cell_type": "code",
   "execution_count": 45,
   "id": "0981f89f-2c6d-4420-9a76-0eca21e34726",
   "metadata": {},
   "outputs": [
    {
     "data": {
      "text/html": [
       "<div>\n",
       "<style scoped>\n",
       "    .dataframe tbody tr th:only-of-type {\n",
       "        vertical-align: middle;\n",
       "    }\n",
       "\n",
       "    .dataframe tbody tr th {\n",
       "        vertical-align: top;\n",
       "    }\n",
       "\n",
       "    .dataframe thead th {\n",
       "        text-align: right;\n",
       "    }\n",
       "</style>\n",
       "<table border=\"1\" class=\"dataframe\">\n",
       "  <thead>\n",
       "    <tr style=\"text-align: right;\">\n",
       "      <th></th>\n",
       "      <th>Accuracy</th>\n",
       "      <th>Recall</th>\n",
       "      <th>Precision</th>\n",
       "      <th>F1</th>\n",
       "    </tr>\n",
       "  </thead>\n",
       "  <tbody>\n",
       "    <tr>\n",
       "      <th>Logistic Regression (Balanced Tuned) Testing</th>\n",
       "      <td>0.750772</td>\n",
       "      <td>0.833333</td>\n",
       "      <td>0.519324</td>\n",
       "      <td>0.639881</td>\n",
       "    </tr>\n",
       "    <tr>\n",
       "      <th>Logistic Regression (RandomOverSampler Tuned) Testing</th>\n",
       "      <td>0.748713</td>\n",
       "      <td>0.829457</td>\n",
       "      <td>0.516908</td>\n",
       "      <td>0.636905</td>\n",
       "    </tr>\n",
       "    <tr>\n",
       "      <th>Logistic Regression (SMOTE Tuned) Testing</th>\n",
       "      <td>0.750772</td>\n",
       "      <td>0.825581</td>\n",
       "      <td>0.519512</td>\n",
       "      <td>0.637725</td>\n",
       "    </tr>\n",
       "    <tr>\n",
       "      <th>Logistic Regression (RandomOverSampler) Testing</th>\n",
       "      <td>0.747683</td>\n",
       "      <td>0.810078</td>\n",
       "      <td>0.516049</td>\n",
       "      <td>0.630468</td>\n",
       "    </tr>\n",
       "    <tr>\n",
       "      <th>Logistic Regression (Balanced) Testing</th>\n",
       "      <td>0.745623</td>\n",
       "      <td>0.806202</td>\n",
       "      <td>0.513580</td>\n",
       "      <td>0.627451</td>\n",
       "    </tr>\n",
       "    <tr>\n",
       "      <th>Logistic Regression (SMOTE) Testing</th>\n",
       "      <td>0.746653</td>\n",
       "      <td>0.794574</td>\n",
       "      <td>0.515075</td>\n",
       "      <td>0.625000</td>\n",
       "    </tr>\n",
       "  </tbody>\n",
       "</table>\n",
       "</div>"
      ],
      "text/plain": [
       "                                                       Accuracy    Recall  \\\n",
       "Logistic Regression (Balanced Tuned) Testing           0.750772  0.833333   \n",
       "Logistic Regression (RandomOverSampler Tuned) Testing  0.748713  0.829457   \n",
       "Logistic Regression (SMOTE Tuned) Testing              0.750772  0.825581   \n",
       "Logistic Regression (RandomOverSampler) Testing        0.747683  0.810078   \n",
       "Logistic Regression (Balanced) Testing                 0.745623  0.806202   \n",
       "Logistic Regression (SMOTE) Testing                    0.746653  0.794574   \n",
       "\n",
       "                                                       Precision        F1  \n",
       "Logistic Regression (Balanced Tuned) Testing            0.519324  0.639881  \n",
       "Logistic Regression (RandomOverSampler Tuned) Testing   0.516908  0.636905  \n",
       "Logistic Regression (SMOTE Tuned) Testing               0.519512  0.637725  \n",
       "Logistic Regression (RandomOverSampler) Testing         0.516049  0.630468  \n",
       "Logistic Regression (Balanced) Testing                  0.513580  0.627451  \n",
       "Logistic Regression (SMOTE) Testing                     0.515075  0.625000  "
      ]
     },
     "execution_count": 45,
     "metadata": {},
     "output_type": "execute_result"
    }
   ],
   "source": [
    "df_eval_tun_test = df_eval_tun.T.iloc[1::2].sort_values(by='Recall', ascending=False)\n",
    "df_eval_tun_test"
   ]
  },
  {
   "cell_type": "markdown",
   "id": "4f78e6d9-2c10-4c59-a11e-3e273e10af83",
   "metadata": {},
   "source": [
    "- Recall kelas 1 naik setelah dilakukan hyperparameter tuning.\n",
    "- Handling imbalance dan tuning membantu meningkatkan recall kelas 1.\n",
    "- Logistic Regression dengan balanced class weight dan hyperparameter tuning menjadi model terbaik karena memiliki recall kelas 1 tertinggi."
   ]
  },
  {
   "cell_type": "markdown",
   "id": "aed9efc2-e25c-45ee-9791-93441a405571",
   "metadata": {},
   "source": [
    "#### Evaluasi Model Logistic Regression dengan Balanced Class Weight dan Hyperparameter Tuning"
   ]
  },
  {
   "cell_type": "code",
   "execution_count": 46,
   "id": "d5bd62f8-9d87-4783-864d-74c7b9f93dbf",
   "metadata": {},
   "outputs": [
    {
     "name": "stdout",
     "output_type": "stream",
     "text": [
      "Classification Report:\n",
      "              precision    recall  f1-score   support\n",
      "\n",
      "           0       0.92      0.72      0.81       713\n",
      "           1       0.52      0.83      0.64       258\n",
      "\n",
      "    accuracy                           0.75       971\n",
      "   macro avg       0.72      0.78      0.72       971\n",
      "weighted avg       0.82      0.75      0.76       971\n",
      "\n"
     ]
    }
   ],
   "source": [
    "print('Classification Report:')\n",
    "print(cr_test_bal_tuned)"
   ]
  },
  {
   "cell_type": "markdown",
   "id": "470a15a3-3ec1-412c-b5b7-91f8025aa517",
   "metadata": {},
   "source": [
    "- Model sangat baik dalam mengidentifikasi pelanggan yang churn (recall 0.83) ini penting untuk bisnis agar dapat mengambil tindakan preventif.\n",
    "- Model menghasilkan cukup banyak false positives (precision 0.52 pada churn) artinya ada risiko memperingatkan pelanggan yang sebenarnya tidak akan churn.\n",
    "- Trade-off ini umum pada masalah imbalance dan business context yang mengutamakan recall kelas 1 agar tidak kehilangan pelanggan yang benar-benar akan berhenti."
   ]
  },
  {
   "cell_type": "markdown",
   "id": "927a54c2-dcaa-4c09-a89e-abd9fc1fbedf",
   "metadata": {},
   "source": [
    "### Feature Importances"
   ]
  },
  {
   "cell_type": "code",
   "execution_count": 47,
   "id": "74f5cc65-0217-4526-b6e1-d9ad66ae98fb",
   "metadata": {},
   "outputs": [
    {
     "data": {
      "text/html": [
       "<div>\n",
       "<style scoped>\n",
       "    .dataframe tbody tr th:only-of-type {\n",
       "        vertical-align: middle;\n",
       "    }\n",
       "\n",
       "    .dataframe tbody tr th {\n",
       "        vertical-align: top;\n",
       "    }\n",
       "\n",
       "    .dataframe thead th {\n",
       "        text-align: right;\n",
       "    }\n",
       "</style>\n",
       "<table border=\"1\" class=\"dataframe\">\n",
       "  <thead>\n",
       "    <tr style=\"text-align: right;\">\n",
       "      <th></th>\n",
       "      <th>feature</th>\n",
       "      <th>coefficient</th>\n",
       "      <th>abs_coef</th>\n",
       "    </tr>\n",
       "  </thead>\n",
       "  <tbody>\n",
       "    <tr>\n",
       "      <th>8</th>\n",
       "      <td>Contract</td>\n",
       "      <td>-0.704488</td>\n",
       "      <td>0.704488</td>\n",
       "    </tr>\n",
       "    <tr>\n",
       "      <th>9</th>\n",
       "      <td>tenure</td>\n",
       "      <td>-0.644418</td>\n",
       "      <td>0.644418</td>\n",
       "    </tr>\n",
       "    <tr>\n",
       "      <th>10</th>\n",
       "      <td>MonthlyCharges</td>\n",
       "      <td>0.436337</td>\n",
       "      <td>0.436337</td>\n",
       "    </tr>\n",
       "    <tr>\n",
       "      <th>0</th>\n",
       "      <td>InternetService_Fiber optic</td>\n",
       "      <td>0.360612</td>\n",
       "      <td>0.360612</td>\n",
       "    </tr>\n",
       "    <tr>\n",
       "      <th>1</th>\n",
       "      <td>InternetService_No</td>\n",
       "      <td>-0.311471</td>\n",
       "      <td>0.311471</td>\n",
       "    </tr>\n",
       "    <tr>\n",
       "      <th>3</th>\n",
       "      <td>OnlineSecurity</td>\n",
       "      <td>-0.310633</td>\n",
       "      <td>0.310633</td>\n",
       "    </tr>\n",
       "    <tr>\n",
       "      <th>7</th>\n",
       "      <td>PaperlessBilling</td>\n",
       "      <td>0.290045</td>\n",
       "      <td>0.290045</td>\n",
       "    </tr>\n",
       "    <tr>\n",
       "      <th>6</th>\n",
       "      <td>TechSupport</td>\n",
       "      <td>-0.239228</td>\n",
       "      <td>0.239228</td>\n",
       "    </tr>\n",
       "    <tr>\n",
       "      <th>2</th>\n",
       "      <td>Dependents</td>\n",
       "      <td>-0.183699</td>\n",
       "      <td>0.183699</td>\n",
       "    </tr>\n",
       "    <tr>\n",
       "      <th>4</th>\n",
       "      <td>OnlineBackup</td>\n",
       "      <td>-0.125507</td>\n",
       "      <td>0.125507</td>\n",
       "    </tr>\n",
       "    <tr>\n",
       "      <th>5</th>\n",
       "      <td>DeviceProtection</td>\n",
       "      <td>-0.013596</td>\n",
       "      <td>0.013596</td>\n",
       "    </tr>\n",
       "  </tbody>\n",
       "</table>\n",
       "</div>"
      ],
      "text/plain": [
       "                        feature  coefficient  abs_coef\n",
       "8                      Contract    -0.704488  0.704488\n",
       "9                        tenure    -0.644418  0.644418\n",
       "10               MonthlyCharges     0.436337  0.436337\n",
       "0   InternetService_Fiber optic     0.360612  0.360612\n",
       "1            InternetService_No    -0.311471  0.311471\n",
       "3                OnlineSecurity    -0.310633  0.310633\n",
       "7              PaperlessBilling     0.290045  0.290045\n",
       "6                   TechSupport    -0.239228  0.239228\n",
       "2                    Dependents    -0.183699  0.183699\n",
       "4                  OnlineBackup    -0.125507  0.125507\n",
       "5              DeviceProtection    -0.013596  0.013596"
      ]
     },
     "execution_count": 47,
     "metadata": {},
     "output_type": "execute_result"
    }
   ],
   "source": [
    "preprocessor = balanced_tuning.named_steps['preprocess']\n",
    "\n",
    "onehot = preprocessor.named_transformers_['onehot']\n",
    "onehot_feature_names = onehot.get_feature_names_out(['InternetService'])\n",
    "\n",
    "binary_features = binary_cols\n",
    "\n",
    "ordinal_features = ['Contract']\n",
    "\n",
    "num_features = num_cols\n",
    "\n",
    "all_features = list(onehot_feature_names) + binary_features + ordinal_features + num_features\n",
    "\n",
    "coef = balanced_tuning.named_steps['model'].coef_.flatten()\n",
    "\n",
    "coef_df = pd.DataFrame({\n",
    "    'feature': all_features,\n",
    "    'coefficient': coef\n",
    "})\n",
    "\n",
    "coef_df['abs_coef'] = coef_df['coefficient'].abs()\n",
    "coef_df = coef_df.sort_values(by='abs_coef', ascending=False)\n",
    "\n",
    "coef_df"
   ]
  },
  {
   "cell_type": "markdown",
   "id": "6b625189-e31e-454e-938e-064d2de94ead",
   "metadata": {},
   "source": [
    "- Fitur dengan koefisien negatif mengurangi risiko churn.\n",
    "- Fitur dengan koefisien positif meningkatkan risiko churn.\n",
    "- Nilai negatif pada fitur ordinal Contract artinya semakin lama kontrak maka risiko pelanggan churn turun.\n",
    "- tenure merupakan fitur numerik dengan nilai koefisien negatif artinya semakin loyal pelanggan maka kemungkinan churn berkurang.\n",
    "- Fitur numerik MonthlyCharges dengan nilai koefisien positif artinya artinya biaya bulanan lebih tinggi meningkatkan kemungkinan churn.\n",
    "- InternetService_Fiber optic dan InternetService_No adalah hasil one-hot encoding dari InternetService dengan baseline kategori yang di-drop yaitu InternetService_DSL.\n",
    "  - Koefisien positif untuk Fiber optic artinya jika pelanggan menggunakan layanan Fiber optic dibanding baseline risiko churnnya cenderung naik.\n",
    "  - Koefisien negatif untuk pelanggan yang tidak menggunakan layanan internet artinya pelanggan jenis ini dibanding baseline risiko churnnya cenderung turun.\n",
    "- Fitur binary PaperlessBilling memiliki koefisien positif artinya pelanggan dengan billing tanpa kertas cenderung lebih berisiko churn.\n",
    "- Fitur binary selain PaperlessBilling dengan koef negatif artinya jika nilainya Yes kemungkinan churn menurun."
   ]
  },
  {
   "cell_type": "code",
   "execution_count": 48,
   "id": "9a1c0025-1fa4-455a-99ab-76f04855c109",
   "metadata": {},
   "outputs": [
    {
     "data": {
      "image/png": "[encoded data removed]",
      "text/plain": [
       "<Figure size 800x600 with 1 Axes>"
      ]
     },
     "metadata": {},
     "output_type": "display_data"
    }
   ],
   "source": [
    "plt.figure(figsize=(8,6))\n",
    "sns.barplot(x='abs_coef', y='feature', data=coef_df)\n",
    "plt.title('Feature Importance berdasarkan Koefisien Logistic Regression')\n",
    "plt.xlabel('Koefisien (absolut)')\n",
    "plt.ylabel('Fitur')\n",
    "plt.grid(True, axis='x', linestyle='--', alpha=0.5)\n",
    "plt.show()"
   ]
  },
  {
   "cell_type": "code",
   "execution_count": 49,
   "id": "18886dcf-09ef-4446-9fec-9e120019e747",
   "metadata": {},
   "outputs": [
    {
     "name": "stdout",
     "output_type": "stream",
     "text": [
      "Total pengaruh fitur InternetService (jumlah abs_coef): 0.6720831252711544\n"
     ]
    }
   ],
   "source": [
    "internet_features = coef_df[coef_df['feature'].str.startswith('InternetService')]\n",
    "\n",
    "total_internet_importance = internet_features['abs_coef'].sum()\n",
    "\n",
    "print(f\"Total pengaruh fitur InternetService (jumlah abs_coef): {total_internet_importance}\")"
   ]
  },
  {
   "cell_type": "markdown",
   "id": "981a0b46-10aa-4e2d-8915-cc153526f0e8",
   "metadata": {},
   "source": [
    "- Apabila dilihat dari bar chart, fitur Contract, tenure, dan MonthlyCharges adalah yang paling berpengaruh.\n",
    "- Namun perlu diingat bahwa InternetService merupakan fitur dengan nilai nominal sehingga pengaruhnya ditentukan dari jumlah nilai absolut koefisien InternetService_Fiber optic dan InternetService_No.\n",
    "- Pengaruh fitur InternetService adalah 0.672083 artinya lebih besar dari koefisien absolut tenure.\n",
    "- Oleh karena itu 4 fitur paling berpengaruh adalah Contract, InternetService, tenure, dan MonthlyCharge."
   ]
  },
  {
   "cell_type": "markdown",
   "id": "a2008a6d-c62c-4103-9da5-3f6a3d4bc7fd",
   "metadata": {},
   "source": [
    "## Conclusion and Recommendation"
   ]
  },
  {
   "cell_type": "code",
   "execution_count": 50,
   "id": "6d5176b8-e5e9-4264-b55b-dc93bf047682",
   "metadata": {},
   "outputs": [
    {
     "data": {
      "image/png": "[encoded data removed]",
      "text/plain": [
       "<Figure size 600x400 with 2 Axes>"
      ]
     },
     "metadata": {},
     "output_type": "display_data"
    }
   ],
   "source": [
    "plt.figure(figsize=(6,4))\n",
    "sns.heatmap(cm_test_smote_tuned, annot=True, fmt='d', cmap='Blues')\n",
    "plt.title('Confusion Matrix Heatmap')\n",
    "plt.show()"
   ]
  },
  {
   "cell_type": "markdown",
   "id": "73d37b6e-f01b-420b-b581-133a51e26739",
   "metadata": {},
   "source": [
    "### Kesimpulan\n",
    "- Model terbaik yaitu logistic regression dengan balanced class weight dan hyperparameter tuning yang dapat memprediksi 83% pelanggan yang churn dengan presisi 52%.\n",
    "  - Dari [artikel](https://pmc.ncbi.nlm.nih.gov/articles/PMC10239051/?utm_source=chatgpt.com) didapati informasi bahwa mendapatkan pelanggan baru bisa 5–25 kali lebih mahal dibanding mempertahankan pelanggan yang sudah ada.\n",
    "  - Misalkan biaya mempertahankan 1 dollar per orang dan biaya dan biaya mendapatkan pelanggan baru 5 dollar per orang ini menggunakan 5 yang merupakan kelipatan terkecil.\n",
    "  - Tanpa model:\n",
    "    - False positive  $\\frac{258}{971}\\times 713$ yaitu 189 artinya kerugian 189 dollar.\n",
    "    - False negative  $\\frac{713}{971}\\times 258$ yaitu 189 artinya kerugian 945 dollar.\n",
    "    - Total Kerugian 1134 dollar.\n",
    "  - Dengan model:\n",
    "    - Kerugian dari false positive (197) karena salah sasaran adalah 197 dollar dan false negative (45) karena gagal prediksi 225 dollar.\n",
    "    - Total kerugian 422 dollar.\n",
    "  - Berdasarkan pengandaian didapati bahwa penggunaan model dapat mengurangi kerugian hingga 62.79%.\n",
    "- Fitur yang paling berpengaruh adalah Contract, InternetService, tenure, dan MonthlyCharge.\n",
    "- Limitasi model:\n",
    "\n",
    "| Fitur | Tipe Data | Limitasi |\n",
    "| --- | --- | --- |\n",
    "| Dependents | Object | Nilai unik: 'Yes', 'No' |\n",
    "| tenure | Integer | Rentang 0 - 72 bulan |\n",
    "| OnlineSecurity | Object | Nilai unik: 'Yes', 'No', 'No internet service' |\n",
    "| OnlineBackup | Object | Nilai unik: 'Yes', 'No', 'No internet service' |\n",
    "| InternetService | Object | Nilai unik: 'DSL', 'Fiber optic', 'No' |\n",
    "| DeviceProtection | Object | Nilai unik: 'Yes', 'No', 'No internet service' |\n",
    "| TechSupport | Object | Nilai unik: 'Yes', 'No', 'No internet service' |\n",
    "| Contract | Object | Nilai unik: 'Month-to-month', 'Two year', 'One year' |\n",
    "| Paperlessbilling | Object | Nilai unik: 'Yes', 'No' |\n",
    "| MonthlyCharges | Float | Rentang 18.8-118.65 (biaya bulanan) |\n",
    "| Churn | Object | Nilai unik: 'Yes', 'No' |\n",
    "\n",
    "### Rekomendasi\n",
    "Berikut rekomendasi untuk meningkatkan performa model agar dapat bekerja lebih baik:\n",
    "- Peningkatan Data\n",
    "  - Integrasi Data Eksternal: Tambahkan data dari sumber lain seperti log interaksi customer service (durasi panggilan, jumlah keluhan) atau data media sosial.\n",
    "- Peningkatan Performa dan Strategi Model\n",
    "  - Sesuaikan model untuk meminimalkan kerugian finansial, bukan hanya kesalahan prediksi. Gunakan teknik cost-sensitive learning dengan memberikan bobot lebih besar pada pelanggan yang churn tapi tidak terdeteksi.\n",
    "  - Mencoba metode imbalance handling selain Random Over Sampling, SMOTE, dan Balanced Class Weight pada model logistic regression.\n",
    "  - Mencoba model machine learning lain dengan disertai hyperparameter tuning dan imbalance handling.\n",
    "- Implementasi dan Penerapan Bisnis\n",
    "  - Automatisasi Proses dengan membangun pipeline otomatis untuk memprediksi churn secara berkala dan memperbarui model.\n",
    "  - Uji Coba A/B yang dilakukan dengan menerapkan model ini pada kelompok uji untuk mengukur efektivitasnya dalam mengurangi churn secara empiris. Kemudian, bandingkan hasilnya dengan kelompok kontrol.\n",
    "  - Membuat dashboard yang dapat digunakan oleh tim bisnis (marketing/customer service) untuk melihat dan mengambil tindakan proaktif pada pelanggan yang diprediksi akan churn."
   ]
  },
  {
   "cell_type": "markdown",
   "id": "c65944d6-71c7-4b4b-8197-e89bc86cf63f",
   "metadata": {},
   "source": [
    "## Save Model"
   ]
  },
  {
   "cell_type": "code",
   "execution_count": 51,
   "id": "97199207-179a-4fbb-b454-38904ac2e482",
   "metadata": {},
   "outputs": [],
   "source": [
    "# with open('final_model.pkl', 'wb') as f:\n",
    "#     pickle.dump(balanced_tuning, f)\n",
    "\n",
    "# print('Model berhasil disimpan ke final_model.pkl')"
   ]
  },
  {
   "cell_type": "code",
   "execution_count": 52,
   "id": "0c4d490f-1d0e-4582-a364-64027879b20d",
   "metadata": {},
   "outputs": [],
   "source": [
    "# with open('final_model.pkl', 'rb') as f:\n",
    "#     loaded_model = pickle.load(f)\n",
    "\n",
    "# y_pred = loaded_model.predict(X_test)\n",
    "\n",
    "# cr_loaded = classification_report(y_test, y_pred)\n",
    "\n",
    "# print(cr_loaded)"
   ]
  }
 ],
 "metadata": {
  "kernelspec": {
   "display_name": "Python 3 (ipykernel)",
   "language": "python",
   "name": "python3"
  },
  "language_info": {
   "codemirror_mode": {
    "name": "ipython",
    "version": 3
   },
   "file_extension": ".py",
   "mimetype": "text/x-python",
   "name": "python",
   "nbconvert_exporter": "python",
   "pygments_lexer": "ipython3",
   "version": "3.13.5"
  }
 },
 "nbformat": 4,
 "nbformat_minor": 5
}
